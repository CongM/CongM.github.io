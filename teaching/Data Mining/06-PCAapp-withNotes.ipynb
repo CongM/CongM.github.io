{
 "cells": [
  {
   "cell_type": "markdown",
   "metadata": {
    "slideshow": {
     "slide_type": "slide"
    }
   },
   "source": [
    "<hr/>\n",
    "\n",
    "# Data Mining\n",
    "**Tamás Budavári** - budavari@jhu.edu <br/>\n",
    "**Class 6**\n",
    "\n",
    "- Principal Component Analysis recap\n",
    "- PCA in practice: coordinate systems, projections\n",
    "\n",
    "<hr/>"
   ]
  },
  {
   "cell_type": "markdown",
   "metadata": {
    "slideshow": {
     "slide_type": "slide"
    }
   },
   "source": [
    "<h1><font color=\"darkblue\">Principal Component Analysis</font></h1>\n",
    "<hr/>"
   ]
  },
  {
   "cell_type": "markdown",
   "metadata": {},
   "source": [
    "<img src=files/800px-GaussianScatterPCA.png width=250 align=right>\n",
    "\n",
    "### What Features?\n",
    "\n",
    "- High-dimensional data\n",
    "- Data transformations\n",
    "- Interesting directions\n",
    "- Linear combinations\n",
    "- Rotated coordinate system"
   ]
  },
  {
   "cell_type": "markdown",
   "metadata": {},
   "source": [
    "### Location & Dispersion\n",
    "\n",
    "- 1-dimensional\n",
    "\n",
    "> For example, mean and variance\n",
    "\n",
    "- $N$-dimensional\n",
    "\n",
    "> E.g., again mean (duh!) and covariance matrix\n",
    "\n",
    "\n"
   ]
  },
  {
   "cell_type": "markdown",
   "metadata": {},
   "source": [
    "### Principal Components\n",
    "\n",
    "- Eigensystem of a covariance matrix is special\n",
    "\n",
    "> $\\displaystyle  C\\,\\boldsymbol{e}_k = \\lambda_k\\,\\boldsymbol{e}_k \\ \\ \\ $ for all $k=1\\dots{}N$ \n",
    ">\n",
    "> where\n",
    ">\n",
    "> $\\displaystyle \\boldsymbol{e}_k^T \\boldsymbol{e}_l = \\delta_{kl} \\ \\ \\ $ for all $k$ and $l$\n",
    "\n",
    "- The 1st principal component \n",
    "\n",
    "> The direction of maximum variance is the eigenvector $\\boldsymbol{e}_1$ \n",
    "> that belongs to the largest eigenvalue $\\lambda_1$\n",
    "> and $\\lambda_1$ is the variance along that direction"
   ]
  },
  {
   "cell_type": "markdown",
   "metadata": {},
   "source": [
    "### Linear Combination\n",
    "\n",
    "- If $X$ is a linear combination of the eigenvectors\n",
    "\n",
    "> $\\displaystyle  X = \\sum_k \\boldsymbol{e}_k \\beta_{k} =  E\\,\\boldsymbol\\beta$ \n",
    ">\n",
    "> with orthonormal $E=[\\boldsymbol{e}_1, ..., \\boldsymbol{e}_N]$ eigenbasis\n",
    "\n",
    "- We get the (random variable) coefficients\n",
    "\n",
    "> $\\displaystyle  \\boldsymbol{\\beta} = E^T\\,X$ \n",
    ">\n",
    "> because $E^T{}E = I$ and \n",
    "> \n",
    "> $\\displaystyle  X =  E\\,\\boldsymbol\\beta \\;\\; \\Rightarrow \\;\\; E^T\\,X =  E^T\\,E\\,\\boldsymbol\\beta $"
   ]
  },
  {
   "cell_type": "markdown",
   "metadata": {},
   "source": [
    "### Coordinate Transformation\n",
    "\n",
    "- New covariance matrix is diagonal and the elements are the eigenvalues of $C$\n",
    "\n",
    "> If $\\beta=E^T X$ and again assuming $\\mathbb{E}[X]=0$ then\n",
    ">\n",
    "> $\\displaystyle \\ \\ \\ \\ \\ \\ \\ \\ \\mathbb{E}[\\beta \\beta^T] = \\mathbb{E}[E^T XX^T E] = E^T \\mathbb{E}[XX^T]\\,E = E^T C\\,E = \\Lambda$\n",
    ">\n",
    "> where \n",
    ">\n",
    ">$\\displaystyle \\ \\ \\ \\ \\ \\ \\ \\ \\Lambda =  \\left( \\begin{array}{ccc}\n",
    "{\\lambda_1} & 0 & \\cdots & 0\\\\\n",
    "0 & {\\lambda_2} &   & \\vdots\\\\\n",
    "\\vdots &  & \\ddots & 0 \\\\\n",
    "0 & \\cdots & 0 & {\\lambda_N} \\\\\n",
    "\\end{array} \\right)$\n",
    "\n",
    "<!-- -->\n",
    "\n",
    "> Recall $C\\,\\boldsymbol{e}_l = \\lambda_l\\,\\boldsymbol{e}_l$ for all $l$, so the $(k,l)$ element of the new covariance matrix \n",
    ">\n",
    ">$\\displaystyle \\ \\ \\ \\ \\ \\ \\ \\ \\boldsymbol{e}_k^T C\\,\\boldsymbol{e}_l = \\lambda_l\\,\\boldsymbol{e}_k^T  \\boldsymbol{e}_l  = \\lambda_l\\delta_{kl} = \\Lambda_{kl}$\n",
    ">\n",
    "> where $ \\delta_{kl} = 1 $ if $ k = l $, 0 otherwise"
   ]
  },
  {
   "cell_type": "markdown",
   "metadata": {},
   "source": [
    "- Note\n",
    "\n",
    "> $\\displaystyle E^T C\\,E = \\Lambda \\;\\; \\Rightarrow \\;\\; E E^T C\\,E E^T = E \\Lambda E^T \\;\\; \\Rightarrow \\;\\; C = E \\Lambda E^T \\;\\; $ since $ \\;\\; E E^T = E^T E = I $"
   ]
  },
  {
   "cell_type": "markdown",
   "metadata": {},
   "source": [
    "### Eigendecomposition \n",
    "\n",
    "- If we multiply with $E$ and $E^T$ from left and right \n",
    "\n",
    "> $ C = E\\,\\Lambda\\,E^T$\n",
    "\n",
    "> or\n",
    "\n",
    ">$\\displaystyle C = \\sum_{k=1}^N\\ \\lambda_k\\left(\\boldsymbol{e}_k\\,\\boldsymbol{e}_k^T\\right) $"
   ]
  },
  {
   "cell_type": "markdown",
   "metadata": {},
   "source": [
    "### Largest Eigenvalues\n",
    "\n",
    "- The eigenvectors of largest eigenvalues capture the most variance\n",
    "\n",
    "> If keeping only $K<N$ eigenvectors, the best is to take the ones belonging to the $K$ largest eigenvalues PCs\n",
    ">\n",
    "> $\\displaystyle  C \\approx \\sum_{k=1}^K\\ \\lambda_k\\left(\\boldsymbol{e}_k\\,\\boldsymbol{e}_k^T\\right) =  E_K\\Lambda_KE_K^T$\n",
    "\n"
   ]
  },
  {
   "cell_type": "markdown",
   "metadata": {},
   "source": [
    "### Dimensionality Reduction\n",
    "\n",
    "\n",
    "- A truncated set of eigenvectors $E_K$ defines a transformation that reduces the dimensionality from $N$ to $K$ while preserving the most variance possible\n",
    "\n",
    "> $\\displaystyle  \\beta_K = E_K^T\\, X $\n",
    "\n",
    "> and\n",
    "\n",
    "> $\\displaystyle  X_K = E_K \\beta_K = E_K E_K^T\\, X = P_K\\,X $\n",
    "\n",
    "\n"
   ]
  },
  {
   "cell_type": "markdown",
   "metadata": {},
   "source": [
    "### Random Sample from Bivariate Normal \n",
    "\n",
    "- See previous lecture"
   ]
  },
  {
   "cell_type": "code",
   "execution_count": null,
   "metadata": {},
   "outputs": [],
   "source": [
    "%pylab inline\n",
    "from scipy.stats import norm as gaussian"
   ]
  },
  {
   "cell_type": "code",
   "execution_count": null,
   "metadata": {},
   "outputs": [],
   "source": [
    "# Generate many 2D (column) vectors \n",
    "np.random.seed(42)\n",
    "N = gaussian.rvs(0,1,(2,50))\n",
    "\n",
    "# Copy it\n",
    "S = np.copy(N)\n",
    "\n",
    "# Scale axis 0\n",
    "S[0,:] *= 4 \n",
    "\n",
    "# Rotate by 45 degrees\n",
    "f = +pi/4   \n",
    "R = array([[cos(f), -sin(f)],\n",
    "           [sin(f),  cos(f)]]) \n",
    "X = R.dot(S)\n",
    "\n",
    "# Shift it\n",
    "X += np.array([[1],[3]])\n",
    "\n",
    "# Plot the points\n",
    "figure(figsize=(14,4)); #xlim(-10,10); ylim(-10,10);\n",
    "subplot(1,3,1).set_aspect('equal'); xlim(-10,10); ylim(-10,10); title('normal')\n",
    "scatter(N[0,:],N[1,:], marker='o',color='b', s=50, alpha=0.3, edgecolor='none');\n",
    "subplot(1,3,2).set_aspect('equal'); xlim(-10,10); ylim(-10,10); title('scaled')\n",
    "scatter(S[0,:],S[1,:], marker='o',color='b', s=50, alpha=0.3, edgecolor='none');\n",
    "subplot(1,3,3).set_aspect('equal'); xlim(-10,10); ylim(-10,10); title('final')\n",
    "scatter(X[0,:],X[1,:],marker='o',s=50,alpha=0.3,edgecolor='none');"
   ]
  },
  {
   "cell_type": "markdown",
   "metadata": {},
   "source": [
    "### Procedure of PCA\n",
    "\n",
    "- Given Data matrix \n",
    "> $ X = (x_{ij})_{n \\times m} $\n",
    "\n",
    "\n",
    "- Centering\n",
    "> $X_{new} = X - mean(X)$\n",
    "\n",
    "- Decomposition\n",
    "> Original data matrix \n",
    " - $ X_{new} = U W V^T$\n",
    ">\n",
    "> Sample covariance matrix \n",
    " - $\\displaystyle  C = \\frac{1}{n\\!-\\!1}\\ X_{new} X_{new}^T = \\frac{1}{n\\!-\\!1}\\  \\sum_i x_i x_i^T $\n",
    " - $ C = E \\Lambda E^T $\n",
    ">\n",
    "> Hence\n",
    " - $\\displaystyle  C = \\frac{1}{n\\!-\\!1}\\  UWV^T\\ VWU^T = \\frac{1}{n\\!-\\!1}\\ U W^2 U^T = E \\Lambda E^T $\n",
    " - $ E = U $\n",
    " - $\\displaystyle  \\Lambda = \\frac{1}{n\\!-\\!1}\\  W^2$\n",
    "\n",
    "- Choose first $k$ components"
   ]
  },
  {
   "cell_type": "code",
   "execution_count": null,
   "metadata": {},
   "outputs": [],
   "source": [
    "# Subtract sample mean (centering)\n",
    "avg = mean(X, axis=1).reshape(X[:,1].size,1)\n",
    "X -= avg\n",
    "\n",
    "# Sample covariance matrix\n",
    "C = X.dot(X.T) / (X[0,:].size-1) \n",
    "print (\"Average\\n\", avg)\n",
    "print (\"Covariance\\n\", C)"
   ]
  },
  {
   "cell_type": "code",
   "execution_count": null,
   "metadata": {},
   "outputs": [],
   "source": [
    "# Eigen decomposition of sample covariance matrix\n",
    "L, E = np.linalg.eig(C)\n",
    "E, L"
   ]
  },
  {
   "cell_type": "code",
   "execution_count": null,
   "metadata": {},
   "outputs": [],
   "source": [
    "# Singular value decomposition of covariance yields the same\n",
    "E, L, E_same = np.linalg.svd(C)\n",
    "E, L"
   ]
  },
  {
   "cell_type": "code",
   "execution_count": null,
   "metadata": {},
   "outputs": [],
   "source": [
    "# It's a rotation! i.e. EE^T = I\n",
    "E.dot(E.T)"
   ]
  },
  {
   "cell_type": "code",
   "execution_count": null,
   "metadata": {},
   "outputs": [],
   "source": [
    "# Also E^T and E^(-1) are close\n",
    "np.allclose( E.T, np.linalg.inv(E) )"
   ]
  },
  {
   "cell_type": "code",
   "execution_count": null,
   "metadata": {},
   "outputs": [],
   "source": [
    "# Singular value decomposition of data matrix yields also the same\n",
    "U, W, V = np.linalg.svd(X)\n",
    "U, W**2 / (X[0,:].size-1)"
   ]
  },
  {
   "cell_type": "code",
   "execution_count": null,
   "metadata": {},
   "outputs": [],
   "source": [
    "# Check out the properties of U and V\n",
    "[ np.allclose( U.T.dot(U), np.eye(U[:,0].size) ), \n",
    "  np.allclose( V.T.dot(V), np.eye(V[:,0].size) )  ]"
   ]
  },
  {
   "cell_type": "code",
   "execution_count": null,
   "metadata": {},
   "outputs": [],
   "source": [
    "# Principle components from sklearn\n",
    "from sklearn import decomposition"
   ]
  },
  {
   "cell_type": "code",
   "execution_count": null,
   "metadata": {},
   "outputs": [],
   "source": [
    "# Object-oriented interface\n",
    "pca = decomposition.PCA(n_components=X[:,0].size)\n",
    "\n",
    "# sklearn uses a different convention\n",
    "pca.fit(X.T) # note the transpose\n",
    "\n",
    "# pca.transform(X.T)\n",
    "\n",
    "# E and Lambda\n",
    "print (pca.components_.T, pca.explained_variance_)"
   ]
  },
  {
   "cell_type": "code",
   "execution_count": null,
   "metadata": {},
   "outputs": [],
   "source": [
    "# No more bug in the sklearn code - yeay! \n",
    "print (E, L)"
   ]
  },
  {
   "cell_type": "code",
   "execution_count": null,
   "metadata": {},
   "outputs": [],
   "source": [
    "# Use to yield results without bessel correction\n",
    "print (U, W**2 / X[0,:].size)"
   ]
  },
  {
   "cell_type": "code",
   "execution_count": null,
   "metadata": {},
   "outputs": [],
   "source": [
    "# Rotation\n",
    "A = E.T.dot(X);\n",
    "\n",
    "# Plot\n",
    "figure(figsize=(5,5)); xlim(-10,10); ylim(-10,10);\n",
    "scatter(A[0,:],A[1,:],marker='o',s=50,alpha=0.3,edgecolor='none');"
   ]
  },
  {
   "cell_type": "code",
   "execution_count": null,
   "metadata": {},
   "outputs": [],
   "source": [
    "# Projected points\n",
    "P = E[:,:1].dot(E[:,:1].T).dot(X)\n",
    "\n",
    "# Plot\n",
    "figure(figsize=(5,5)); xlim(-10,10); ylim(-10,10);\n",
    "scatter(X[0,:],X[1,:],marker='o',color='b', s=50, alpha=0.3, edgecolor='none');\n",
    "scatter(P[0,:],P[1,:],marker='o',color='r', s=50, alpha=0.3, edgecolor='none');"
   ]
  },
  {
   "cell_type": "markdown",
   "metadata": {},
   "source": [
    "### How to choose k"
   ]
  },
  {
   "cell_type": "markdown",
   "metadata": {},
   "source": [
    "- Percent variance\n",
    "> Find the smallest number of components to explain a certain percentage of the total variance, i.e., keep the top $k$ components where $k$ is the smallest integer between 1 and $m$ such that\n",
    "\n",
    "$$ \\frac{\\sum_{i=1}^{k} \\lambda_i}{\\sum_{i=1}^{m} \\lambda_i}\\ge \\alpha $$"
   ]
  },
  {
   "cell_type": "markdown",
   "metadata": {},
   "source": [
    "- Scree plot"
   ]
  },
  {
   "cell_type": "code",
   "execution_count": 22,
   "metadata": {},
   "outputs": [],
   "source": [
    "# Generate data\n",
    "X = stats.norm.rvs(0,1,(10,100))\n",
    "e1 = stats.uniform.rvs(2,4,(4,100))\n",
    "e2 = stats.uniform.rvs(20,30,(6,100))\n",
    "X[0:4,:] = X[0:4,:] + e1\n",
    "X[4:,:] = X[4:,:] + e2"
   ]
  },
  {
   "cell_type": "code",
   "execution_count": 23,
   "metadata": {},
   "outputs": [],
   "source": [
    "# Centering\n",
    "avg = mean(X, axis=1).reshape(X[:,1].size,1)\n",
    "X -= avg\n",
    "\n",
    "# Sample covariance matrix\n",
    "C = X.dot(X.T) / (X[0,:].size-1) \n",
    "\n",
    "# Decomposition\n",
    "E, Lambda, _ = linalg.svd(C)"
   ]
  },
  {
   "cell_type": "code",
   "execution_count": 24,
   "metadata": {},
   "outputs": [
    {
     "data": {
      "image/png": "[encoded data removed]",
      "text/plain": [
       "<matplotlib.figure.Figure at 0x1a17912240>"
      ]
     },
     "metadata": {},
     "output_type": "display_data"
    }
   ],
   "source": [
    "# Scree plot\n",
    "S = np.cumsum(Lambda)\n",
    "R = S / S[-1]\n",
    "subplot(211);\n",
    "plot(R,'ro-'); \n",
    "ylabel('Percent');\n",
    "subplot(212);\n",
    "plot(Lambda,'o-'); \n",
    "ylabel('Eigenvalues');"
   ]
  },
  {
   "cell_type": "markdown",
   "metadata": {},
   "source": [
    "- [Profile likelihood](https://www.sciencedirect.com/science/article/pii/S0167947305002343)"
   ]
  },
  {
   "cell_type": "markdown",
   "metadata": {
    "collapsed": true
   },
   "source": [
    "#### References"
   ]
  },
  {
   "cell_type": "markdown",
   "metadata": {
    "collapsed": true
   },
   "source": [
    "- Jackson, J. Edward. A user's guide to principal components. Vol. 587. John Wiley & Sons, 2005."
   ]
  },
  {
   "cell_type": "markdown",
   "metadata": {},
   "source": [
    "### Whitening\n",
    "- Frequently used to preprocess data, e.g., in signal processing\n",
    ">$ \\displaystyle Z = \\Lambda^{-1/2}\\ E^T\\ X$\n",
    "\n",
    "- Make features less redundant\n",
    "> Less correlated with each other\n",
    ">\n",
    "> Same variance\n",
    "\n",
    "\n",
    "- **Unhomework:** Verify that its covariance matrix is identity\n",
    "> Hint\n",
    "  - $ \\displaystyle C_Z = \\frac{1}{n-1} Z Z^T  $\n",
    "  - $ \\displaystyle C = \\frac{1}{n-1} X X^T = E \\Lambda E^T $\n",
    "  - $ \\displaystyle E E^T = E^T E = I $\n",
    ">\n",
    "> Just write it out"
   ]
  },
  {
   "cell_type": "code",
   "execution_count": null,
   "metadata": {},
   "outputs": [],
   "source": [
    "# Calculate and plot whitened coordinates\n",
    "B = diag(1/sqrt(L)).dot(A)\n",
    "\n",
    "figure(figsize=(5,5)); xlim(-5,5); ylim(-5,5);\n",
    "scatter(B[0,:],B[1,:], marker='o',color='b', s=50, alpha=0.3, edgecolor='none');"
   ]
  },
  {
   "cell_type": "code",
   "execution_count": null,
   "metadata": {},
   "outputs": [],
   "source": [
    "# cf. original normal randoms in cell [2]\n",
    "figure(figsize=(11,5)); \n",
    "subplot(1,2,1).set_aspect('equal'); xlim(-5,5); ylim(-5,5); title('whitened')\n",
    "scatter(B[0,:],B[1,:], marker='o',color='b', s=50, alpha=0.3, edgecolor='none');\n",
    "subplot(1,2,2).set_aspect('equal'); xlim(-5,5); ylim(-5,5); title('original')\n",
    "scatter(-N[0,:],N[1,:], marker='o',color='b', s=50, alpha=0.3, edgecolor='none');"
   ]
  },
  {
   "cell_type": "markdown",
   "metadata": {},
   "source": [
    "- PCA in `sklearn` ([Tutorial](http://scikit-learn.org/stable/modules/decomposition.html))"
   ]
  },
  {
   "cell_type": "code",
   "execution_count": null,
   "metadata": {},
   "outputs": [],
   "source": [
    "from sklearn.decomposition import PCA"
   ]
  },
  {
   "cell_type": "code",
   "execution_count": 25,
   "metadata": {},
   "outputs": [],
   "source": [
    "# Choose first 3 PCs by setting [n_componts] = 3 and whitening the data by setting [whiten] = True\n",
    "pca = PCA(n_components=3, whiten=True)\n",
    "pca.fit(X.T);"
   ]
  },
  {
   "cell_type": "code",
   "execution_count": 26,
   "metadata": {},
   "outputs": [
    {
     "data": {
      "text/plain": [
       "array([ 107.73160671,   99.57625475,   88.5659707 ])"
      ]
     },
     "execution_count": 26,
     "metadata": {},
     "output_type": "execute_result"
    }
   ],
   "source": [
    "# Compare with Lambda\n",
    "pca.explained_variance_"
   ]
  },
  {
   "cell_type": "code",
   "execution_count": 27,
   "metadata": {},
   "outputs": [
    {
     "data": {
      "text/plain": [
       "array([ 107.73160671,   99.57625475,   88.5659707 ,   64.60346033,\n",
       "         54.4455435 ,   51.48059568,    2.39884366,    2.1702168 ,\n",
       "          1.97037653,    1.80419974])"
      ]
     },
     "execution_count": 27,
     "metadata": {},
     "output_type": "execute_result"
    }
   ],
   "source": [
    "Lambda"
   ]
  },
  {
   "cell_type": "code",
   "execution_count": 28,
   "metadata": {},
   "outputs": [
    {
     "data": {
      "text/plain": [
       "array([ 0.22692422,  0.20974591,  0.18655401])"
      ]
     },
     "execution_count": 28,
     "metadata": {},
     "output_type": "execute_result"
    }
   ],
   "source": [
    "# Compare with Lambda / sum(Lambda)\n",
    "pca.explained_variance_ratio_"
   ]
  },
  {
   "cell_type": "code",
   "execution_count": 29,
   "metadata": {},
   "outputs": [
    {
     "data": {
      "text/plain": [
       "array([ 0.22692422,  0.20974591,  0.18655401,  0.13607975,  0.11468326,\n",
       "        0.10843794,  0.00505289,  0.00457131,  0.00415037,  0.00380034])"
      ]
     },
     "execution_count": 29,
     "metadata": {},
     "output_type": "execute_result"
    }
   ],
   "source": [
    "Lambda / sum(Lambda)"
   ]
  },
  {
   "cell_type": "code",
   "execution_count": 30,
   "metadata": {},
   "outputs": [],
   "source": [
    "# Transform the data\n",
    "XX = pca.fit_transform(X.T)"
   ]
  },
  {
   "cell_type": "code",
   "execution_count": 31,
   "metadata": {},
   "outputs": [
    {
     "name": "stdout",
     "output_type": "stream",
     "text": [
      "Original Dimension:  (100, 10)\n",
      "Reducted Dimension:  (100, 3)\n"
     ]
    }
   ],
   "source": [
    "print('Original Dimension: ', X.T.shape)\n",
    "print('Reducted Dimension: ', XX.shape)"
   ]
  },
  {
   "cell_type": "code",
   "execution_count": null,
   "metadata": {},
   "outputs": [],
   "source": []
  },
  {
   "cell_type": "code",
   "execution_count": null,
   "metadata": {},
   "outputs": [],
   "source": []
  },
  {
   "cell_type": "code",
   "execution_count": null,
   "metadata": {},
   "outputs": [],
   "source": []
  },
  {
   "cell_type": "code",
   "execution_count": null,
   "metadata": {},
   "outputs": [],
   "source": []
  },
  {
   "cell_type": "code",
   "execution_count": null,
   "metadata": {},
   "outputs": [],
   "source": []
  }
 ],
 "metadata": {
  "anaconda-cloud": {},
  "kernelspec": {
   "display_name": "Python 3",
   "language": "python",
   "name": "python3"
  },
  "language_info": {
   "codemirror_mode": {
    "name": "ipython",
    "version": 3
   },
   "file_extension": ".py",
   "mimetype": "text/x-python",
   "name": "python",
   "nbconvert_exporter": "python",
   "pygments_lexer": "ipython3",
   "version": "3.6.6"
  },
  "toc": {
   "nav_menu": {},
   "number_sections": false,
   "sideBar": true,
   "skip_h1_title": false,
   "title_cell": "Table of Contents",
   "title_sidebar": "Contents",
   "toc_cell": false,
   "toc_position": {},
   "toc_section_display": true,
   "toc_window_display": false
  },
  "varInspector": {
   "cols": {
    "lenName": 16,
    "lenType": 16,
    "lenVar": 40
   },
   "kernels_config": {
    "python": {
     "delete_cmd_postfix": "",
     "delete_cmd_prefix": "del ",
     "library": "var_list.py",
     "varRefreshCmd": "print(var_dic_list())"
    },
    "r": {
     "delete_cmd_postfix": ") ",
     "delete_cmd_prefix": "rm(",
     "library": "var_list.r",
     "varRefreshCmd": "cat(var_dic_list()) "
    }
   },
   "types_to_exclude": [
    "module",
    "function",
    "builtin_function_or_method",
    "instance",
    "_Feature"
   ],
   "window_display": false
  }
 },
 "nbformat": 4,
 "nbformat_minor": 1
}
