{
 "cells": [
  {
   "cell_type": "markdown",
   "metadata": {
    "slideshow": {
     "slide_type": "slide"
    }
   },
   "source": [
    "<hr/>\n",
    "\n",
    "# Data Mining \n",
    "**Tamás Budavári** - budavari@jhu.edu <br/>\n",
    "\n",
    "- Tree data structures\n",
    "- Classification trees\n",
    "\n",
    "<hr/>"
   ]
  },
  {
   "cell_type": "code",
   "execution_count": 1,
   "metadata": {},
   "outputs": [
    {
     "name": "stdout",
     "output_type": "stream",
     "text": [
      "Populating the interactive namespace from numpy and matplotlib\n"
     ]
    }
   ],
   "source": [
    "%pylab inline"
   ]
  },
  {
   "cell_type": "markdown",
   "metadata": {},
   "source": [
    "<h1><font color=\"darkblue\">Trees</font></h1>\n",
    "<hr/>"
   ]
  },
  {
   "cell_type": "markdown",
   "metadata": {},
   "source": [
    "- Recursive data structures\n",
    "\n",
    "> **Recursion**<br/>\n",
    "> To know recursion, you must first know [recursion](https://en.wikipedia.org/wiki/Recursion).\n",
    "\n",
    "> **Recursive Acronyms** <br/>\n",
    ">   GNU: GNU is Not Unix <br/>\n",
    ">   LAME: LAME Ain't an MP3 Encoder<br/>\n",
    ">   PIP: PIP Installs Packages\n",
    "\n",
    "- Used everywhere\n",
    "\n",
    "> Searches, decisions, etc...\n"
   ]
  },
  {
   "cell_type": "code",
   "execution_count": 2,
   "metadata": {},
   "outputs": [],
   "source": [
    "# Factorial using recursion\n",
    "def f(n):\n",
    "    if n>0: return n * f(n-1)\n",
    "    else: return 1"
   ]
  },
  {
   "cell_type": "code",
   "execution_count": 3,
   "metadata": {},
   "outputs": [
    {
     "data": {
      "text/plain": [
       "120"
      ]
     },
     "execution_count": 3,
     "metadata": {},
     "output_type": "execute_result"
    }
   ],
   "source": [
    "f(5)"
   ]
  },
  {
   "cell_type": "code",
   "execution_count": 4,
   "metadata": {
    "scrolled": false
   },
   "outputs": [
    {
     "data": {
      "text/plain": [
       "array([ 24, 120,   2])"
      ]
     },
     "execution_count": 4,
     "metadata": {},
     "output_type": "execute_result"
    }
   ],
   "source": [
    "func = np.vectorize(f)\n",
    "func([4,5,2])"
   ]
  },
  {
   "cell_type": "markdown",
   "metadata": {},
   "source": [
    "### [Binary Tree](https://en.wikipedia.org/wiki/Binary_tree)\n",
    "- Connected nodes - special tree structures\n",
    "\n",
    "> There is one root node\n",
    "\n",
    "> Every node has maximum two nodes (left, right)\n",
    "\n",
    "> Leaves are the terminal nodes\n",
    "\n",
    "<img src=\"https://upload.wikimedia.org/wikipedia/commons/f/f7/Binary_tree.svg\" alt=\"Binary tree.svg\" height=\"250\" width=\"200\" align=left>\n",
    "<!--\n",
    "<img src=\"files/Binary_tree.svg\" alt=\"Binary tree.svg\" height=\"250\" width=\"200\" align=left>\n",
    "-->"
   ]
  },
  {
   "cell_type": "code",
   "execution_count": 5,
   "metadata": {},
   "outputs": [],
   "source": [
    "class node(object):\n",
    "    \n",
    "    def __init__(self, data, left=None, right=None):\n",
    "        self.data = data\n",
    "        self.left = left\n",
    "        self.right = right\n",
    "   \n",
    "    def __repr__(self, i=0):\n",
    "        s = '\\t'*i + '[' + repr(self.data) + '] \\n'\n",
    "        if self.left is not None:  \n",
    "            s += self.left.__repr__(i+1)\n",
    "        if self.right: # same thing\n",
    "            s += self.right.__repr__(i+1)\n",
    "        return s"
   ]
  },
  {
   "cell_type": "code",
   "execution_count": 6,
   "metadata": {},
   "outputs": [
    {
     "data": {
      "text/plain": [
       "[2] \n",
       "\t[7] \n",
       "\t\t[2] \n",
       "\t\t[6] \n",
       "\t\t\t[5] \n",
       "\t\t\t[11] \n",
       "\t[5] \n",
       "\t\t[9] \n",
       "\t\t\t[4] "
      ]
     },
     "execution_count": 6,
     "metadata": {},
     "output_type": "execute_result"
    }
   ],
   "source": [
    "root = node(2, \n",
    "            node(7,\n",
    "                 node(2), \n",
    "                 node(6, node(5), node(11))),\n",
    "            node(5, None,\n",
    "                 node(9, node(4)))\n",
    "           )\n",
    "\n",
    "root"
   ]
  },
  {
   "cell_type": "code",
   "execution_count": 7,
   "metadata": {},
   "outputs": [
    {
     "name": "stdout",
     "output_type": "stream",
     "text": [
      "2\n"
     ]
    }
   ],
   "source": [
    "print (root.left.left.data)"
   ]
  },
  {
   "cell_type": "code",
   "execution_count": 8,
   "metadata": {},
   "outputs": [
    {
     "data": {
      "text/plain": [
       "[2] \n",
       "\t[7] \n",
       "\t\t[2] \n",
       "\t\t\t[99] \n",
       "\t\t\t[999] \n",
       "\t\t[6] \n",
       "\t\t\t[5] \n",
       "\t\t\t[11] \n",
       "\t[5] \n",
       "\t\t[9] \n",
       "\t\t\t[4] "
      ]
     },
     "execution_count": 8,
     "metadata": {},
     "output_type": "execute_result"
    }
   ],
   "source": [
    "root.left.left.left = node(99)\n",
    "root.left.left.right = node(999)\n",
    "root"
   ]
  },
  {
   "cell_type": "code",
   "execution_count": 9,
   "metadata": {},
   "outputs": [
    {
     "data": {
      "text/plain": [
       "9"
      ]
     },
     "execution_count": 9,
     "metadata": {},
     "output_type": "execute_result"
    }
   ],
   "source": [
    "root.right.right.data"
   ]
  },
  {
   "cell_type": "markdown",
   "metadata": {},
   "source": [
    "### $n$-ary Tree"
   ]
  },
  {
   "cell_type": "code",
   "execution_count": 10,
   "metadata": {},
   "outputs": [],
   "source": [
    "class node(object):\n",
    "    \n",
    "    def __init__(self, data, children=[]):\n",
    "        self.data = data\n",
    "        self.children = children\n",
    "        \n",
    "    def __repr__(self, i=0):\n",
    "        s = '\\t'*i + repr(self.data) + '\\n' \n",
    "        for child in self.children:\n",
    "            s += child.__repr__(i+1)\n",
    "        return s"
   ]
  },
  {
   "cell_type": "code",
   "execution_count": 11,
   "metadata": {},
   "outputs": [
    {
     "data": {
      "text/plain": [
       "2\n",
       "\t7\n",
       "\t\t2\n",
       "\t\t6\n",
       "\t\t\t5\n",
       "\t\t\t11\n",
       "\t5\n",
       "\t\t9\n",
       "\t\t\t4"
      ]
     },
     "execution_count": 11,
     "metadata": {},
     "output_type": "execute_result"
    }
   ],
   "source": [
    "# build a tree\n",
    "root = node(2, [ \n",
    "            node(7, [\n",
    "                node(2),\n",
    "                node(6, [\n",
    "                        node(5), \n",
    "                        node(11)])]),\n",
    "            node(5, [\n",
    "                node(9, [node(4)])])\n",
    "            ]);\n",
    "\n",
    "root"
   ]
  },
  {
   "cell_type": "code",
   "execution_count": 12,
   "metadata": {},
   "outputs": [
    {
     "data": {
      "text/plain": [
       "2\n",
       "\t7\n",
       "\t\t2\n",
       "\t\t6\n",
       "\t\t\t5\n",
       "\t\t\t11\n",
       "\t5\n",
       "\t\t9\n",
       "\t\t\t4\n",
       "\t999"
      ]
     },
     "execution_count": 12,
     "metadata": {},
     "output_type": "execute_result"
    }
   ],
   "source": [
    "root.children.append(node(999))\n",
    "root"
   ]
  },
  {
   "cell_type": "markdown",
   "metadata": {},
   "source": [
    "### Trees are everywhere!\n",
    "\n",
    "- Searching\n",
    "\n",
    "> [k-d trees](https://en.wikipedia.org/wiki/K-d_tree), [B-tree](https://en.wikipedia.org/wiki/B-tree), [R-tree](https://en.wikipedia.org/wiki/R-tree), [ball trees](https://en.wikipedia.org/wiki/Ball_tree), etc...\n",
    "\n",
    "> E.g., for nearest neighbor searches\n",
    "\n",
    "- Decisions \n",
    "\n",
    "> E.g., for classification "
   ]
  },
  {
   "cell_type": "markdown",
   "metadata": {},
   "source": [
    "### $k$-d tree\n",
    "\n",
    "- Balanced tree\n",
    "- Split along axes\n",
    "\n",
    "Constructed from points, see Figure from Wikipedia<br/>\n",
    "{ (2,3), (5,4), (9,6), (4,7), (8,1), (7,2) }\n",
    "\n",
    "<img src=\"https://upload.wikimedia.org/wikipedia/commons/thumb/b/bf/Kdtree_2d.svg/1200px-Kdtree_2d.svg.png\" alt=\"Kdtree 2d.svg\" width=300 align=left> \n",
    "<!--\n",
    "<img src=\"files/1200px-Kdtree_2d.svg.png\" alt=\"Kdtree 2d.svg\" width=300 align=left> \n",
    "-->\n",
    "\n"
   ]
  },
  {
   "cell_type": "markdown",
   "metadata": {},
   "source": [
    "<h1><font color=\"darkblue\">Decision Tree</font></h1>\n",
    "<hr/>"
   ]
  },
  {
   "cell_type": "markdown",
   "metadata": {},
   "source": [
    "- Recursive partitioning of the training dataset\n",
    "\n",
    "> At a given node with dataset $D$ we look for the\n",
    "> best split \n",
    ">\n",
    "> $\\theta = $ (feature $j$, threshold $t$) \n",
    ">\n",
    "> such that the \n",
    "> partitions $D_{\\textrm{left}}(\\theta)$ and $D_{\\textrm{right}}(\\theta)$ have minimal *impurity*\n",
    ">\n",
    "> $\\displaystyle I(\\theta) = \\frac{n_{\\textrm{left}}}{n}\\, H\\Big(D_{\\textrm{left}}(\\theta)\\Big) + \\frac{n_{\\textrm{right}}}{n}\\,H\\Big(D_{\\textrm{right}}(\\theta)\\Big)$\n",
    "\n",
    "- Different impurity functions $H(\\cdot)$\n",
    "\n",
    "> E.g., Gini with $K$ classes in the partition $D$\n",
    "\n",
    ">$\\displaystyle H(D) = \\sum_{i=1}^K p_i (1-p_i)$\n",
    "\n",
    "> Or variance for regression\n"
   ]
  },
  {
   "cell_type": "code",
   "execution_count": null,
   "metadata": {},
   "outputs": [],
   "source": [
    "x = np.linspace(0,1,100)\n",
    "figure(figsize=(3,1.5)); plot(x, x*(1-x));"
   ]
  },
  {
   "cell_type": "markdown",
   "metadata": {},
   "source": [
    "### Toy Example\n",
    "\n",
    "- Calculate by hand..."
   ]
  },
  {
   "cell_type": "code",
   "execution_count": null,
   "metadata": {},
   "outputs": [],
   "source": [
    "X = np.array([[.7,0],[1,.3],[1.1,0],[.9,0],[1,0],[1,-.1],[1,.1],[1,.2]],\n",
    "             dtype=np.float)\n",
    "c = np.array([ 0,0,0,0, 1,1,1, 2], dtype=np.float)\n",
    "figure(figsize(3,3))\n",
    "subplot(111,aspect='equal'); scatter(X[:,0],X[:,1],c=c,cmap=cm.brg);"
   ]
  },
  {
   "cell_type": "markdown",
   "metadata": {},
   "source": [
    "### Gini impurity of a partition\n",
    "\n",
    "- We have 3 classes total hence the sum for the entire dataset is\n",
    "\n",
    ">$ \\displaystyle H = \\frac{4}{8}\\left(1\\!-\\!\\frac{4}{8}\\right) \n",
    "     + \\frac{3}{8}\\left(1\\!-\\!\\frac{3}{8}\\right) \n",
    "     + \\frac{1}{8}\\left(1\\!-\\!\\frac{1}{8}\\right) $ $ \\displaystyle = \\frac{16}{64}\n",
    "     + \\frac{15}{64}\n",
    "     + \\frac{7}{64}\n",
    "     = \\frac{19}{32} = 0.59375$\n",
    "     \n",
    "- This is the root of the tree"
   ]
  },
  {
   "cell_type": "code",
   "execution_count": null,
   "metadata": {},
   "outputs": [],
   "source": [
    "from sklearn import tree"
   ]
  },
  {
   "cell_type": "code",
   "execution_count": null,
   "metadata": {},
   "outputs": [],
   "source": [
    "clf = tree.DecisionTreeClassifier(max_depth=9999)\n",
    "clf.fit(X,c)\n",
    "\n",
    "print (clf.tree_.n_node_samples)\n",
    "print (clf.tree_.impurity)\n",
    "print (clf.tree_.feature)\n",
    "print (clf.tree_.threshold)"
   ]
  },
  {
   "cell_type": "markdown",
   "metadata": {},
   "source": [
    "### Impurity of 2 partitions after first split\n",
    "\n",
    "- The root partition contains 3 classes hence the sum is\n",
    "\n",
    ">$ \\displaystyle H_{\\rm{}left} = \\frac{2}{2}\\left(1\\!-\\!\\frac{2}{2}\\right) + \\frac{0}{2}\\left(1\\!-\\!\\frac{0}{2}\\right) + \\frac{0}{2}\\left(1\\!-\\!\\frac{0}{2}\\right)= 0$\n",
    "\n",
    ">$ \\displaystyle H_{\\rm{}right} = \\frac{3}{6}\\left(1\\!-\\!\\frac{3}{6}\\right) \n",
    "     + \\frac{2}{6}\\left(1\\!-\\!\\frac{2}{6}\\right) \n",
    "     + \\frac{1}{6}\\left(1\\!-\\!\\frac{1}{6}\\right) $ \n",
    " $ \\displaystyle = \\frac{9}{36}\n",
    "     + \\frac{8}{36}\n",
    "     + \\frac{5}{36}\n",
    "     = \\frac{11}{18} $ $\\approx 0.61111111$\n",
    "\n",
    "> Cf. numbers above\n",
    "\n",
    "- Note importance of weighting by partition sizes!"
   ]
  },
  {
   "cell_type": "code",
   "execution_count": null,
   "metadata": {},
   "outputs": [],
   "source": [
    "clf = tree.DecisionTreeClassifier(max_depth=2)\n",
    "clf.fit(X,c)\n",
    "\n",
    "print (clf.tree_.n_node_samples)\n",
    "print (clf.tree_.impurity)\n",
    "print (clf.tree_.feature)\n",
    "print (clf.tree_.threshold)"
   ]
  },
  {
   "cell_type": "markdown",
   "metadata": {},
   "source": [
    "### Example\n",
    "\n",
    "Use the sklearn routines to \n",
    "\n",
    "- Load the iris dataset and use the first 2 features\n",
    "- Run the decision tree classifier with different depths\n",
    "- Use cross-validation and plot the results\n",
    "\n",
    "<a href=\"http://scikit-learn.org/stable/auto_examples/tree/plot_iris.html#sphx-glr-auto-examples-tree-plot-iris-py\"><img src=\"http://scikit-learn.org/stable/_images/sphx_glr_plot_iris_0011.png\" align=left width=500 \\></a>"
   ]
  },
  {
   "cell_type": "code",
   "execution_count": null,
   "metadata": {},
   "outputs": [],
   "source": [
    "from sklearn import datasets"
   ]
  },
  {
   "cell_type": "code",
   "execution_count": null,
   "metadata": {},
   "outputs": [],
   "source": [
    "iris = datasets.load_iris()\n",
    "X = iris.data[:,:2] # only first 2 features\n",
    "c = iris.target[:] # copy\n",
    "subset = c<2 # classes 0 and 1\n",
    "X,c = X[subset,:], c[subset]\n",
    "\n",
    "print ('New classes:', np.unique(c))\n",
    "print ('New data:', X.shape)"
   ]
  },
  {
   "cell_type": "code",
   "execution_count": null,
   "metadata": {},
   "outputs": [],
   "source": [
    "subplot(111,aspect='equal'); \n",
    "scatter(X[:,0],X[:,1],c=c,cmap=cm.brg);"
   ]
  },
  {
   "cell_type": "code",
   "execution_count": null,
   "metadata": {},
   "outputs": [],
   "source": [
    "# grid of points within the limits\n",
    "h = 0.01\n",
    "x,y = meshgrid(arange(X[:,0].min()-.5, X[:,0].max()+.5, h),\n",
    "               arange(X[:,1].min()-.5, X[:,1].max()+.5, h))\n",
    "grid = np.c_[x.ravel(),y.ravel()]\n",
    "\n",
    "# decision-surfaces as fn of max depth\n",
    "for depth in range(1,5):\n",
    "    clf = tree.DecisionTreeClassifier(max_depth=depth)\n",
    "    z = clf.fit(X,c).predict(grid).reshape(x.shape)\n",
    "    figure(figsize=(3,3)); subplot(111,aspect='equal')\n",
    "    contourf(x, y, z, cmap=cm.Spectral_r)\n",
    "    scatter(X[:,0], X[:,1], c=c, cmap=cm.gray);"
   ]
  },
  {
   "cell_type": "markdown",
   "metadata": {},
   "source": [
    "<h1><font color=\"darkblue\">Random Forest</font></h1>\n",
    "<hr/>"
   ]
  },
  {
   "cell_type": "markdown",
   "metadata": {},
   "source": [
    "### Random Tree\n",
    "\n",
    "- Hard to pick the *best* in high dimensions (i.e., very expensive)\n",
    "\n",
    "> Instead we pick a number of random directions to search<br/>\n",
    "> and take the optimal split among those\n",
    "\n",
    "- A randomized tree will not be optimal but much faster to build"
   ]
  },
  {
   "cell_type": "markdown",
   "metadata": {},
   "source": [
    "### Forest of Random Trees\n",
    "\n",
    "- Create multiple randomized trees to classify\n",
    "\n",
    "> Combine the results, e.g., voting\n",
    "\n",
    "- Check out Boostrap and [Bagging](https://scikit-learn.org/stable/modules/ensemble.html)"
   ]
  },
  {
   "cell_type": "code",
   "execution_count": null,
   "metadata": {},
   "outputs": [],
   "source": [
    "from sklearn.ensemble import RandomForestClassifier\n",
    "from sklearn.model_selection import cross_val_score"
   ]
  },
  {
   "cell_type": "code",
   "execution_count": null,
   "metadata": {},
   "outputs": [],
   "source": [
    "clf = RandomForestClassifier(n_estimators=200,max_depth=2)\n",
    "z = clf.fit(X,c).predict(grid).reshape(x.shape)\n",
    "\n",
    "figure(figsize=(4,4)); subplot(111,aspect='equal')\n",
    "contourf(x,y,z, cmap=cm.Spectral_r)\n",
    "scatter(X[:,0],X[:,1], c=c, cmap=cm.gray);\n",
    "\n",
    "cross_val_score(clf, X,c, cv=10)"
   ]
  },
  {
   "cell_type": "markdown",
   "metadata": {},
   "source": [
    "### Assumptions and Limitations\n",
    "\n",
    "- Axis parallel boundaries might be suboptimal\n",
    "\n",
    "- But there is no need for a distance function\n",
    "\n",
    "- And improved by random forest with many trees\n",
    "\n",
    "also\n",
    "\n",
    "- Improvements in the estimation error by random forest\n",
    "cf. central limit theorem\n",
    "\n"
   ]
  },
  {
   "cell_type": "markdown",
   "metadata": {},
   "source": [
    "### Divide and Conquer\n",
    "\n",
    "- These methods are applicable to regression problems\n",
    "\n",
    "> Minimize the variance of the left and right partitions\n",
    "\n",
    "> e.g., piecewise constant\n",
    "\n",
    "- Useful concepts to consider to build complex methods\n",
    "\n"
   ]
  },
  {
   "cell_type": "markdown",
   "metadata": {},
   "source": [
    "### Comparison of Classifiers\n",
    "\n",
    " - Check out the \n",
    "<a href=\"http://scikit-learn.org/stable/auto_examples/classification/plot_classifier_comparison.html\">demo script</a> running a bunch of classifiers in sklearn "
   ]
  },
  {
   "cell_type": "markdown",
   "metadata": {},
   "source": [
    "### Unhomework\n",
    "\n",
    "Go to http://scikit-learn.org/stable/auto_examples/classification/plot_classifier_comparison.html and modify the code to run all classifiers that we learned so far"
   ]
  },
  {
   "cell_type": "markdown",
   "metadata": {},
   "source": [
    "<h1><font color=\"darkblue\">Summary</font></h1>\n",
    "<hr/>"
   ]
  },
  {
   "cell_type": "code",
   "execution_count": null,
   "metadata": {},
   "outputs": [],
   "source": [
    "import datetime\n",
    "import pandas as pd\n",
    "from sklearn import datasets\n",
    "from sklearn import tree\n",
    "from sklearn import ensemble\n",
    "from sklearn.model_selection import cross_val_score"
   ]
  },
  {
   "cell_type": "markdown",
   "metadata": {},
   "source": [
    "### Decision Tree"
   ]
  },
  {
   "cell_type": "markdown",
   "metadata": {},
   "source": [
    "- **Intuition:** Look for the best split for the data\n",
    "\n",
    "<img src='https://congm.github.io/teaching/Data%20Mining/files/iris.png' width=800 align=center>\n",
    "<p style=\"text-align:right\">(Picture from http://scikit-learn.org/stable/modules/tree.html)</p>"
   ]
  },
  {
   "cell_type": "markdown",
   "metadata": {},
   "source": [
    "- **Classification criteria:** At a given node with dataset $D$ we want to find the best split $ \\quad \\theta = (\\text{feature} \\  j, \\text{threshold} \\  t) \\quad $ to minimize impurity\n",
    "> $ \\displaystyle I(\\theta) = \\frac{n_{\\text{left}}}{n}\\, H \\left(D_{\\text{left}}(\\theta) \\right) + \\frac{n_{\\text{right}}}{n}\\, H \\left(D_{\\text{right}}(\\theta) \\right) $"
   ]
  },
  {
   "cell_type": "code",
   "execution_count": 6,
   "metadata": {},
   "outputs": [
    {
     "data": {
      "text/plain": [
       "DecisionTreeClassifier(class_weight=None, criterion='gini', max_depth=None,\n",
       "            max_features=None, max_leaf_nodes=None,\n",
       "            min_impurity_decrease=0.0, min_impurity_split=None,\n",
       "            min_samples_leaf=1, min_samples_split=2,\n",
       "            min_weight_fraction_leaf=0.0, presort=False, random_state=4,\n",
       "            splitter='best')"
      ]
     },
     "execution_count": 6,
     "metadata": {},
     "output_type": "execute_result"
    }
   ],
   "source": [
    "clf = tree.DecisionTreeClassifier(criterion='gini', max_depth=None, random_state=4)\n",
    "clf.fit(iris.data, iris.target)"
   ]
  },
  {
   "cell_type": "markdown",
   "metadata": {},
   "source": [
    "<img src='https://congm.github.io/teaching/Data%20Mining/files/iris.png' width=800 align=center>\n",
    "<p style=\"text-align:right\">(Picture from http://scikit-learn.org/stable/modules/tree.html)</p>"
   ]
  },
  {
   "cell_type": "code",
   "execution_count": 7,
   "metadata": {},
   "outputs": [
    {
     "data": {
      "text/plain": [
       "array([ 0.66666667,  0.        ,  0.5       ,  0.16803841,  0.04079861,\n",
       "        0.        ,  0.        ,  0.44444444,  0.        ,  0.44444444,\n",
       "        0.        ,  0.        ,  0.04253308,  0.44444444,  0.        ,\n",
       "        0.        ,  0.        ])"
      ]
     },
     "execution_count": 7,
     "metadata": {},
     "output_type": "execute_result"
    }
   ],
   "source": [
    "clf.tree_.impurity"
   ]
  },
  {
   "cell_type": "code",
   "execution_count": 8,
   "metadata": {},
   "outputs": [
    {
     "data": {
      "text/plain": [
       "['sepal length (cm)',\n",
       " 'sepal width (cm)',\n",
       " 'petal length (cm)',\n",
       " 'petal width (cm)']"
      ]
     },
     "execution_count": 8,
     "metadata": {},
     "output_type": "execute_result"
    }
   ],
   "source": [
    "iris.feature_names"
   ]
  },
  {
   "cell_type": "code",
   "execution_count": 9,
   "metadata": {},
   "outputs": [
    {
     "data": {
      "text/plain": [
       "array([ 2, -2,  3,  2,  3, -2, -2,  3, -2,  0, -2, -2,  2,  1, -2, -2, -2])"
      ]
     },
     "execution_count": 9,
     "metadata": {},
     "output_type": "execute_result"
    }
   ],
   "source": [
    "# -2 means leaf\n",
    "clf.tree_.feature"
   ]
  },
  {
   "cell_type": "code",
   "execution_count": 10,
   "metadata": {},
   "outputs": [
    {
     "data": {
      "text/plain": [
       "array([ 2.45000005, -2.        ,  1.75      ,  4.94999981,  1.6500001 ,\n",
       "       -2.        , -2.        ,  1.54999995, -2.        ,  6.94999981,\n",
       "       -2.        , -2.        ,  4.85000038,  3.0999999 , -2.        ,\n",
       "       -2.        , -2.        ])"
      ]
     },
     "execution_count": 10,
     "metadata": {},
     "output_type": "execute_result"
    }
   ],
   "source": [
    "# -2 means leaf\n",
    "clf.tree_.threshold"
   ]
  },
  {
   "cell_type": "code",
   "execution_count": 11,
   "metadata": {},
   "outputs": [
    {
     "data": {
      "text/plain": [
       "array([ 0.01333333,  0.01333333,  0.55072262,  0.42261071])"
      ]
     },
     "execution_count": 11,
     "metadata": {},
     "output_type": "execute_result"
    }
   ],
   "source": [
    "# The higher, the more important the feature\n",
    "# The importance of a feature is computed as the (normalized) total reduction of the criterion brought by that feature\n",
    "# It is also known as the Gini importance\n",
    "clf.feature_importances_"
   ]
  },
  {
   "cell_type": "markdown",
   "metadata": {},
   "source": [
    "- **Note:** For `DecisionTreeClassifier` in scikit-learn\n",
    "> The default values for the parameters controlling the size of the trees (e.g. `max_depth`, `min_samples_leaf`, etc.) lead to fully grown and unpruned trees which can potentially be very large on some data sets. To reduce memory consumption, the complexity and size of the trees should be controlled by setting those parameter values.\n",
    ">\n",
    "> The features are always randomly permuted at each split. Therefore, the best found split may vary, even with the same training data and `max_features=n_features`, if the improvement of the criterion is identical for several splits enumerated during the search of the best split. To obtain a deterministic behaviour during fitting, `random_state` has to be fixed.\n",
    "\n",
    "[References](http://scikit-learn.org/stable/modules/generated/sklearn.tree.DecisionTreeClassifier.html)"
   ]
  },
  {
   "cell_type": "markdown",
   "metadata": {},
   "source": [
    "- **Example**"
   ]
  },
  {
   "cell_type": "code",
   "execution_count": 12,
   "metadata": {},
   "outputs": [
    {
     "data": {
      "image/png": "[encoded data removed]",
      "text/plain": [
       "<matplotlib.figure.Figure at 0x1115c1278>"
      ]
     },
     "metadata": {},
     "output_type": "display_data"
    }
   ],
   "source": [
    "# Figure size\n",
    "figure(figsize=(16, 9))\n",
    "\n",
    "for pairidx, pair in enumerate([[0, 1], [0, 2], [0, 3], [1, 2], [1, 3], [2, 3]]):\n",
    "    \n",
    "    # Only take two features each time\n",
    "    X = iris.data[:, pair]\n",
    "    y = iris.target\n",
    "\n",
    "    # Train classifier\n",
    "    clf = tree.DecisionTreeClassifier()\n",
    "    clf.fit(X, y);\n",
    "    \n",
    "    # Generate grid data\n",
    "    x_min, x_max = X[:,0].min() - 1, X[:,0].max() + 1\n",
    "    y_min, y_max = X[:,1].min() - 1, X[:,1].max() + 1\n",
    "    xx, yy = np.meshgrid(np.arange(x_min, x_max, 0.03), np.arange(y_min, y_max, 0.03))\n",
    "    \n",
    "    # Predict the class for grid data\n",
    "    Z = clf.predict(np.c_[xx.ravel(), yy.ravel()])\n",
    "    Z = Z.reshape(xx.shape)\n",
    "    \n",
    "    # Plot the decision boundary\n",
    "    subplot(2, 3, pairidx + 1);\n",
    "    contourf(xx, yy, Z, cmap=cm.bwr);\n",
    "    xlabel(iris.feature_names[pair[0]]);\n",
    "    ylabel(iris.feature_names[pair[1]]);\n",
    "    tight_layout(h_pad=1, w_pad=1, pad=2.5);\n",
    "\n",
    "    # Plot the training points\n",
    "    scatter(X[:,0], X[:,1], c=y, cmap=cm.bwr, edgecolor='black', s=15);"
   ]
  },
  {
   "cell_type": "code",
   "execution_count": null,
   "metadata": {},
   "outputs": [],
   "source": []
  },
  {
   "cell_type": "code",
   "execution_count": null,
   "metadata": {},
   "outputs": [],
   "source": []
  },
  {
   "cell_type": "code",
   "execution_count": null,
   "metadata": {},
   "outputs": [],
   "source": []
  },
  {
   "cell_type": "code",
   "execution_count": null,
   "metadata": {},
   "outputs": [],
   "source": []
  }
 ],
 "metadata": {
  "anaconda-cloud": {},
  "kernelspec": {
   "display_name": "Python 3",
   "language": "python",
   "name": "python3"
  },
  "language_info": {
   "codemirror_mode": {
    "name": "ipython",
    "version": 3
   },
   "file_extension": ".py",
   "mimetype": "text/x-python",
   "name": "python",
   "nbconvert_exporter": "python",
   "pygments_lexer": "ipython3",
   "version": "3.6.6"
  },
  "toc": {
   "nav_menu": {},
   "number_sections": false,
   "sideBar": true,
   "skip_h1_title": false,
   "title_cell": "Table of Contents",
   "title_sidebar": "Contents",
   "toc_cell": false,
   "toc_position": {},
   "toc_section_display": true,
   "toc_window_display": false
  },
  "varInspector": {
   "cols": {
    "lenName": 16,
    "lenType": 16,
    "lenVar": 40
   },
   "kernels_config": {
    "python": {
     "delete_cmd_postfix": "",
     "delete_cmd_prefix": "del ",
     "library": "var_list.py",
     "varRefreshCmd": "print(var_dic_list())"
    },
    "r": {
     "delete_cmd_postfix": ") ",
     "delete_cmd_prefix": "rm(",
     "library": "var_list.r",
     "varRefreshCmd": "cat(var_dic_list()) "
    }
   },
   "types_to_exclude": [
    "module",
    "function",
    "builtin_function_or_method",
    "instance",
    "_Feature"
   ],
   "window_display": false
  }
 },
 "nbformat": 4,
 "nbformat_minor": 1
}
