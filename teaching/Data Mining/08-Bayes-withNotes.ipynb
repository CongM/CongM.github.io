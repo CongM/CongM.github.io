{
 "cells": [
  {
   "cell_type": "markdown",
   "metadata": {
    "nbpresent": {
     "id": "978ff1f5-ffac-4819-b832-db261a5fb32c"
    },
    "slideshow": {
     "slide_type": "slide"
    }
   },
   "source": [
    "<hr/>\n",
    "\n",
    "# Data Mining\n",
    "**Tamás Budavári** - budavari@jhu.edu <br/>\n",
    "**Class 8** \n",
    "\n",
    "- Bayesian inference\n",
    "- Prior: proper vs improper\n",
    "- Likelihood function\n",
    "- Maximum Likelihood Estimation\n",
    "- Links to least squares\n",
    "\n",
    "<hr/>"
   ]
  },
  {
   "cell_type": "code",
   "execution_count": 6,
   "metadata": {},
   "outputs": [
    {
     "name": "stdout",
     "output_type": "stream",
     "text": [
      "Populating the interactive namespace from numpy and matplotlib\n"
     ]
    }
   ],
   "source": [
    "%pylab inline"
   ]
  },
  {
   "cell_type": "markdown",
   "metadata": {},
   "source": [
    "<h1><font color=\"darkblue\">Bayesian Inference</font></h1>\n",
    "<hr/>"
   ]
  },
  {
   "cell_type": "markdown",
   "metadata": {
    "nbpresent": {
     "id": "9e13cc51-e810-49c3-ac4c-82398c17211d"
    }
   },
   "source": [
    "### Joint & Conditional Probability\n",
    "- Consider random variables $X$, $Y$ of events. Their [**joint probability**](https://en.wikipedia.org/wiki/Joint_probability_distribution) is\n",
    "\n",
    ">$\\displaystyle P(X, Y) \\neq P(X)\\,P(Y)$ \n",
    ">\n",
    "> instead\n",
    ">\n",
    ">$\\displaystyle P(X, Y) = P(X)\\,P(Y \\lvert X)$ \n",
    ">\n",
    "> where $P(Y  \\lvert X)$ is the [**conditional probability**](https://en.wikipedia.org/wiki/Conditional_probability) of $Y$ given $X$\n",
    "\n",
    "- For example, if $X$ represents the event of flipping head and $Y$ is tail on the same trial, $P(X,Y)=0$ because $P(Y \\lvert  X)=0$. i.e. We can't have head and tail on the same one trial. \n",
    "\n",
    "- But on separate trials, the events would be independent and we would have $P(Y \\lvert  X)=P(Y)$. i.e. The probability of flipping tail is not effected by the result of previous trails.\n"
   ]
  },
  {
   "cell_type": "markdown",
   "metadata": {
    "nbpresent": {
     "id": "4349fff5-7a9a-49be-a174-0f302cc3e27b"
    }
   },
   "source": [
    "### Bayes' Theorem\n",
    "- The joint probability of $X$ and $Y$ discrete events\n",
    "\n",
    ">$\\displaystyle P(X,Y) = P(X)\\,P(Y \\lvert X)$ \n",
    ">\n",
    "> and \n",
    ">\n",
    ">$\\displaystyle P(Y,X) = P(Y)\\,P(X \\lvert Y)$ \n",
    ">\n",
    "> Their equality yields [Bayes' theorem](https://en.wikipedia.org/wiki/Bayes%27_theorem) as\n",
    ">\n",
    ">$\\displaystyle P(X \\lvert Y) = \\frac{P(X)\\,P(Y \\lvert X)}{P(Y)}$ \n",
    ">\n",
    "> This is because\n",
    ">\n",
    "> $\\displaystyle P(X)\\,P(Y \\lvert X) = P(X,Y) = P(Y,X) = P(Y)\\,P(X \\lvert Y) \\qquad $ i.e. $ \\qquad \\displaystyle P(X)\\,P(Y \\lvert X) = P(Y)\\,P(X \\lvert Y) $\n"
   ]
  },
  {
   "cell_type": "markdown",
   "metadata": {
    "nbpresent": {
     "id": "a4ed11a3-064c-4aba-afc5-27020039d755"
    }
   },
   "source": [
    "### Probability Densities\n",
    "- It is also true on the continous case and PDFs\n",
    "\n",
    ">$\\displaystyle P(X \\lvert y) = \\frac{P(X)\\,p(y \\lvert X)}{p(y)}$ \n",
    ">\n",
    "> and\n",
    ">\n",
    ">$\\displaystyle p(x \\lvert Y) = \\frac{p(x)\\,P(Y \\lvert x)}{P(Y)}$ \n",
    ">"
   ]
  },
  {
   "cell_type": "markdown",
   "metadata": {
    "nbpresent": {
     "id": "be3e9a65-83ef-4b03-a7e1-3fdc67433261"
    }
   },
   "source": [
    "- Also\n",
    "\n",
    ">$\\displaystyle p(x \\lvert y) = \\frac{p(x)\\,p(y \\lvert x)}{p(y)}$ \n",
    ">\n",
    "> where\n",
    ">\n",
    ">$\\displaystyle p(y) = \\int p(x)\\,p(y \\lvert x)\\,dx$ \n",
    ">\n",
    "> to ensure that\n",
    ">\n",
    ">$\\displaystyle \\int p(x \\lvert y)\\,dx = 1$ "
   ]
  },
  {
   "cell_type": "markdown",
   "metadata": {
    "nbpresent": {
     "id": "c0cae685-cadf-4c80-abd1-5bfdaa093971"
    }
   },
   "source": [
    "### Probabilitistic Model\n",
    "- From data $D$ we can **infer** the parameters $\\theta$ of model $M$ \n",
    "\n",
    ">$\\displaystyle p(\\theta \\lvert D) = \\frac{p(\\theta)\\,p(D \\lvert \\theta)}{p(D)}$ \n",
    ">\n",
    "> or including the model $M$ explicitly\n",
    ">\n",
    ">$\\displaystyle p(\\theta \\lvert D,M) = \\frac{p(\\theta \\lvert M)\\,p(D \\lvert \\theta,M)}{p(D \\lvert M)}$ \n",
    "\n"
   ]
  },
  {
   "cell_type": "markdown",
   "metadata": {
    "nbpresent": {
     "id": "6f060d06-d47e-4e84-9d27-313e2e9f2515"
    }
   },
   "source": [
    "### Likelihood Function\n",
    "- From data $D$ we can **infer** the parameters $\\theta$ of model $M$ \n",
    "\n",
    ">$\\displaystyle p(\\theta \\lvert D) = \\frac{\\pi(\\theta)\\,{\\cal{}L}_D(\\theta)}{Z}$ \n",
    ">\n",
    "> where the normalization\n",
    ">\n",
    ">$\\displaystyle Z = \\int \\pi(\\theta)\\,{\\cal{}L}_D(\\theta)\\ d\\theta $ \n",
    ">\n",
    "> to ensure that\n",
    ">\n",
    ">$\\displaystyle \\int p(\\theta \\lvert D)\\,d \\theta = 1$ \n",
    "\n",
    "- The [**posterior**](https://en.wikipedia.org/wiki/Posterior_probability) is proportional to the [**prior**](https://en.wikipedia.org/wiki/Prior_probability) times the [**likelihood function**](https://en.wikipedia.org/wiki/Likelihood_function) as $ Z $ is all the same."
   ]
  },
  {
   "cell_type": "markdown",
   "metadata": {
    "nbpresent": {
     "id": "b8920874-4b6e-4946-a26e-461506850628"
    }
   },
   "source": [
    "### Data\n",
    "- A set of independent measurements\n",
    "\n",
    ">$\\displaystyle D = \\Big\\{x_i\\Big\\}_{i=1}^N$\n",
    "\n",
    "- E.g., measuring the temperature in $N$ cities"
   ]
  },
  {
   "cell_type": "markdown",
   "metadata": {
    "nbpresent": {
     "id": "28ccfbf6-3a33-4e28-a9f3-93e3e230a3fe"
    }
   },
   "source": [
    "### Model Parameterization\n",
    "\n",
    "- For example, the model is that all cities have the same temperature\n",
    "\n",
    "> We also need to state our prior knowledge about the temperature\n",
    "\n",
    "- Let $\\mu$ represent that temperature in all cities (same for all)\n",
    "\n",
    "> We pick an appropriate prior - often people say we use a \"flat\" prior because we don't know..."
   ]
  },
  {
   "cell_type": "markdown",
   "metadata": {
    "nbpresent": {
     "id": "fa034999-d4ca-4a7a-bfe1-738e03123fac"
    }
   },
   "source": [
    "### Alternative Parameterization\n",
    "\n",
    "- We could have chosen another parametrization, say $\\tan \\phi$ with $\\phi \\in \\left(-\\frac{\\pi}{2},\\frac{\\pi}{2} \\right)$\n",
    "\n",
    "> Clearly a \"flat prior\" means something different!\n",
    "\n",
    "\n",
    "> What should be the prior? Needs careful consideration!\n",
    "\n",
    "- Non-informative prior?\n",
    "\n",
    "> For more, see [Jeffreys prior](https://en.wikipedia.org/wiki/Jeffreys_prior)"
   ]
  },
  {
   "cell_type": "markdown",
   "metadata": {
    "nbpresent": {
     "id": "16aa483a-9bdc-419c-ab32-ddb981316486"
    }
   },
   "source": [
    "### What is the likelihood function?\n",
    "\n",
    "- For a set of independent measurements\n",
    "\n",
    ">$\\displaystyle {\\cal L}_D(\\mu) = p(D \\lvert \\mu) = p(\\{x_i\\!\\}\\lvert\\mu) = \\prod_{i=1}^N p(x_i\\lvert\\mu) = \\prod_{i=1}^N \\ell_{i}(\\mu)$\n",
    "\n",
    "- For example, Gaussian uncertainties\n",
    "\n",
    ">$\\displaystyle \\ell_{i}(\\mu) = \\frac{1}{\\sqrt{2\\pi\\sigma_i^2}}\\ \\exp\\left\\{-\\frac{(x_i-\\mu)^2}{2\\sigma_i^2}\\right\\}$\n",
    "\n"
   ]
  },
  {
   "cell_type": "markdown",
   "metadata": {
    "nbpresent": {
     "id": "821311cd-c763-4c57-be59-e545cd81188e"
    }
   },
   "source": [
    "### Detour: Improper Priors\n",
    "\n",
    "- The posterior PDF is\n",
    "\n",
    ">$\\displaystyle p(\\mu|D) = \\frac{\\pi(\\mu) \\prod {\\ell}_i(\\mu)}{\\int \\pi(\\mu) \\prod {\\ell}_i(\\mu)\\,d\\mu}\\ $ \n",
    "\n",
    "- Uniform prior?\n",
    "\n",
    "> Using $\\pi(\\mu)\\!=\\!1$ is clearly wrong but what if the prior is flat over the interval where likelihood function is non-zero (if!), the normalization cancels from the ratio\n"
   ]
  },
  {
   "cell_type": "markdown",
   "metadata": {
    "nbpresent": {
     "id": "37cdbbee-2d2a-4214-b26b-ba7a91ba566e"
    }
   },
   "source": [
    "### Estimation\n",
    "\n",
    "- Expected value\n",
    "\n",
    ">$\\displaystyle \\int \\mu\\, p(\\mu \\lvert D)\\, d\\mu$\n",
    "\n",
    "- Variance: 2nd [central moment](https://en.wikipedia.org/wiki/Central_moment)\n",
    "\n",
    "\n"
   ]
  },
  {
   "cell_type": "markdown",
   "metadata": {
    "nbpresent": {
     "id": "3ee5d8bb-95e3-48f1-bc1d-89b2874f040f"
    }
   },
   "source": [
    "### Maximum Likelihood Estimation\n",
    "\n",
    "- Maximizing ${\\cal{}L}$ is the same as minimizing $-\\log{\\cal{}L}$ \n",
    "\n",
    "> $\\displaystyle -\\log{\\cal{}L(\\mu)} = \\mathrm{const.} + \\sum_{i=1}^N \\frac{(x_i\\!-\\!\\mu)^2}{2\\sigma_i^2}$\n",
    ">\n",
    "> This is because for gaussian (c.f. [here](#What-is-the-likelihood-function?))\n",
    ">\n",
    "> $\\displaystyle -\\log{\\cal{}L(\\mu)} = -\\log{ \\left[ \\prod_{i=1}^{N} p(x_i|\\mu) \\right]} = -\\log{\\left[ \\prod_{i=1}^{N} \\frac{1}{\\sqrt{2 \\pi \\sigma_i^2}} \\exp \\left( -\\frac{(x_i\\! - \\!\\mu)^2}{2\\sigma_i^2} \\right) \\right] } = - \\sum_{i=1}^N \\log{\\left[ \\frac{1}{\\sqrt{2 \\pi \\sigma_i^2}} \\exp \\left( -\\frac{(x_i\\! - \\!\\mu)^2}{2\\sigma_i^2} \\right) \\right] } $\n",
    "> $\\displaystyle \\hspace{4em} = - \\sum_{i=1}^N {\\left[ \\log \\frac{1}{\\sqrt{2 \\pi \\sigma_i^2}}  -\\frac{(x_i\\! - \\!\\mu)^2}{2\\sigma_i^2} \\right] } = \\mathrm{const.} + \\sum_{i=1}^N \\frac{(x_i\\!-\\!\\mu)^2}{2\\sigma_i^2} $\n",
    "> \n",
    "\n",
    "> Cf. the method of least squares\n",
    "\n",
    "\n"
   ]
  },
  {
   "cell_type": "markdown",
   "metadata": {
    "nbpresent": {
     "id": "14fae3f4-c070-495a-a7b6-2253f5539878"
    }
   },
   "source": [
    "### Result\n",
    "\n",
    "- Weighted average! Using $w_i = 1 \\big/ \\sigma_i^2$\n",
    "\n",
    "> $\\displaystyle \\hat{\\mu} = \\frac{\\sum w_i x_i}{\\sum w_i}$\n",
    "\n",
    "- Also variance!\n",
    "\n",
    ">$\\displaystyle \\frac{1}{\\sigma_{\\mu}^2} = \\sum w_i = \\sum \\frac{1}{\\sigma_i^2}$\n",
    "\n",
    "> If all have the same $\\sigma$, we have\n",
    "\n",
    ">$\\displaystyle \\frac{1}{\\sigma_{\\mu}^2} = \\frac{N}{\\sigma^2}$\n",
    "$\\ \\ \\ \\rightarrow\\ \\ \\ \\\n",
    "\\displaystyle \\sigma_{\\mu} = {\\sigma} \\big/{\\sqrt{N}}$\n",
    "\n"
   ]
  },
  {
   "cell_type": "markdown",
   "metadata": {},
   "source": [
    "### Exercise: your 1st classification problem \n",
    "\n",
    "> Among some observed objects 1% belongs to a special type, e.g., quasars mixed with many stars. Using a classification method 99% of these special objects can be correctly selected. This method also selects 0.5% of the other types of objects erroneously.\n",
    "\n",
    "> What is the probability of having a special type if an object is selected by the method?\n",
    "\n",
    "> Hint: [Bayes' theorem](#Bayes'-Theorem)\n"
   ]
  },
  {
   "cell_type": "markdown",
   "metadata": {},
   "source": [
    "<h1><font color=\"darkblue\">scikit-learn in Python</font></h1>\n",
    "<hr/>"
   ]
  },
  {
   "cell_type": "markdown",
   "metadata": {},
   "source": [
    "### [Tutorial](http://scikit-learn.org/stable/tutorial/index.html)\n",
    "\n",
    "- <font color=\"red\">**NOTE**: </font> Again it is always a good practice to try to implement the methods you learnt yourself, which could also help you understand how different methods could work and custmize it based on the real problems you want to solve. But you might also want to be familar enough with `scikit-learn` in `Python`, which could be a powerful tool for data-mining/machine-learning. For example, you could use `scikit-learn` to check the output of your own codes or to implement and compare results of different methods quickly."
   ]
  },
  {
   "cell_type": "markdown",
   "metadata": {},
   "source": [
    "### [Datasets](http://scikit-learn.org/stable/modules/classes.html#module-sklearn.datasets)"
   ]
  },
  {
   "cell_type": "code",
   "execution_count": 7,
   "metadata": {},
   "outputs": [],
   "source": [
    "from sklearn import datasets"
   ]
  },
  {
   "cell_type": "markdown",
   "metadata": {},
   "source": [
    "- **Loaders**"
   ]
  },
  {
   "cell_type": "code",
   "execution_count": 8,
   "metadata": {},
   "outputs": [],
   "source": [
    "digits = datasets.load_digits()"
   ]
  },
  {
   "cell_type": "code",
   "execution_count": 9,
   "metadata": {},
   "outputs": [
    {
     "data": {
      "text/plain": [
       "dict_keys(['data', 'target', 'target_names', 'images', 'DESCR'])"
      ]
     },
     "execution_count": 9,
     "metadata": {},
     "output_type": "execute_result"
    }
   ],
   "source": [
    "digits.keys()"
   ]
  },
  {
   "cell_type": "code",
   "execution_count": 10,
   "metadata": {},
   "outputs": [
    {
     "data": {
      "text/plain": [
       "array([[  0.,   0.,   5.,  13.,   9.,   1.,   0.,   0.],\n",
       "       [  0.,   0.,  13.,  15.,  10.,  15.,   5.,   0.],\n",
       "       [  0.,   3.,  15.,   2.,   0.,  11.,   8.,   0.],\n",
       "       [  0.,   4.,  12.,   0.,   0.,   8.,   8.,   0.],\n",
       "       [  0.,   5.,   8.,   0.,   0.,   9.,   8.,   0.],\n",
       "       [  0.,   4.,  11.,   0.,   1.,  12.,   7.,   0.],\n",
       "       [  0.,   2.,  14.,   5.,  10.,  12.,   0.,   0.],\n",
       "       [  0.,   0.,   6.,  13.,  10.,   0.,   0.,   0.]])"
      ]
     },
     "execution_count": 10,
     "metadata": {},
     "output_type": "execute_result"
    }
   ],
   "source": [
    "digits.images[0]  # 8 x 8 matrix"
   ]
  },
  {
   "cell_type": "code",
   "execution_count": 11,
   "metadata": {},
   "outputs": [
    {
     "data": {
      "image/png": "[encoded data removed]",
      "text/plain": [
       "<matplotlib.figure.Figure at 0x1a14a6d6d8>"
      ]
     },
     "metadata": {},
     "output_type": "display_data"
    }
   ],
   "source": [
    "matshow(digits.images[0], cmap='gray');"
   ]
  },
  {
   "cell_type": "code",
   "execution_count": 12,
   "metadata": {},
   "outputs": [
    {
     "data": {
      "image/png": "[encoded data removed]",
      "text/plain": [
       "<matplotlib.figure.Figure at 0x1a147e9550>"
      ]
     },
     "metadata": {},
     "output_type": "display_data"
    }
   ],
   "source": [
    "imshow(digits.images[1], cmap='gray');"
   ]
  },
  {
   "cell_type": "code",
   "execution_count": 13,
   "metadata": {},
   "outputs": [
    {
     "name": "stdout",
     "output_type": "stream",
     "text": [
      "Optical Recognition of Handwritten Digits Data Set\n",
      "===================================================\n",
      "\n",
      "Notes\n",
      "-----\n",
      "Data Set Characteristics:\n",
      "    :Number of Instances: 5620\n",
      "    :Number of Attributes: 64\n",
      "    :Attribute Information: 8x8 image of integer pixels in the range 0..16.\n",
      "    :Missing Attribute Values: None\n",
      "    :Creator: E. Alpaydin (alpaydin '@' boun.edu.tr)\n",
      "    :Date: July; 1998\n",
      "\n",
      "This is a copy of the test set of the UCI ML hand-written digits datasets\n",
      "http://archive.ics.uci.edu/ml/datasets/Optical+Recognition+of+Handwritten+Digits\n",
      "\n",
      "The data set contains images of hand-written digits: 10 classes where\n",
      "each class refers to a digit.\n",
      "\n",
      "Preprocessing programs made available by NIST were used to extract\n",
      "normalized bitmaps of handwritten digits from a preprinted form. From a\n",
      "total of 43 people, 30 contributed to the training set and different 13\n",
      "to the test set. 32x32 bitmaps are divided into nonoverlapping blocks of\n",
      "4x4 and the number of on pixels are counted in each block. This generates\n",
      "an input matrix of 8x8 where each element is an integer in the range\n",
      "0..16. This reduces dimensionality and gives invariance to small\n",
      "distortions.\n",
      "\n",
      "For info on NIST preprocessing routines, see M. D. Garris, J. L. Blue, G.\n",
      "T. Candela, D. L. Dimmick, J. Geist, P. J. Grother, S. A. Janet, and C.\n",
      "L. Wilson, NIST Form-Based Handprint Recognition System, NISTIR 5469,\n",
      "1994.\n",
      "\n",
      "References\n",
      "----------\n",
      "  - C. Kaynak (1995) Methods of Combining Multiple Classifiers and Their\n",
      "    Applications to Handwritten Digit Recognition, MSc Thesis, Institute of\n",
      "    Graduate Studies in Science and Engineering, Bogazici University.\n",
      "  - E. Alpaydin, C. Kaynak (1998) Cascading Classifiers, Kybernetika.\n",
      "  - Ken Tang and Ponnuthurai N. Suganthan and Xi Yao and A. Kai Qin.\n",
      "    Linear dimensionalityreduction using relevance weighted LDA. School of\n",
      "    Electrical and Electronic Engineering Nanyang Technological University.\n",
      "    2005.\n",
      "  - Claudio Gentile. A New Approximate Maximal Margin Classification\n",
      "    Algorithm. NIPS. 2000.\n",
      "\n"
     ]
    }
   ],
   "source": [
    "print(digits.DESCR)"
   ]
  },
  {
   "cell_type": "code",
   "execution_count": 14,
   "metadata": {},
   "outputs": [
    {
     "data": {
      "text/plain": [
       "(1797, 64)"
      ]
     },
     "execution_count": 14,
     "metadata": {},
     "output_type": "execute_result"
    }
   ],
   "source": [
    "# Features\n",
    "digits.data.shape"
   ]
  },
  {
   "cell_type": "code",
   "execution_count": 15,
   "metadata": {},
   "outputs": [
    {
     "data": {
      "text/plain": [
       "(1797,)"
      ]
     },
     "execution_count": 15,
     "metadata": {},
     "output_type": "execute_result"
    }
   ],
   "source": [
    "# Label\n",
    "digits.target.shape"
   ]
  },
  {
   "cell_type": "markdown",
   "metadata": {},
   "source": [
    "- **Samples generator**"
   ]
  },
  {
   "cell_type": "code",
   "execution_count": 16,
   "metadata": {},
   "outputs": [],
   "source": [
    "X, y = datasets.make_classification(n_samples=1000, n_features=10, n_informative=5, n_classes=3, random_state=2018)"
   ]
  },
  {
   "cell_type": "code",
   "execution_count": 17,
   "metadata": {},
   "outputs": [
    {
     "data": {
      "text/plain": [
       "(1000, 10)"
      ]
     },
     "execution_count": 17,
     "metadata": {},
     "output_type": "execute_result"
    }
   ],
   "source": [
    "X.shape"
   ]
  },
  {
   "cell_type": "code",
   "execution_count": 18,
   "metadata": {},
   "outputs": [
    {
     "data": {
      "text/plain": [
       "(1000,)"
      ]
     },
     "execution_count": 18,
     "metadata": {},
     "output_type": "execute_result"
    }
   ],
   "source": [
    "y.shape"
   ]
  },
  {
   "cell_type": "code",
   "execution_count": 19,
   "metadata": {},
   "outputs": [],
   "source": [
    "X, y = datasets.make_circles(n_samples=1000, shuffle=True, noise=0.1, factor=0.2, random_state=2018)"
   ]
  },
  {
   "cell_type": "code",
   "execution_count": 20,
   "metadata": {},
   "outputs": [
    {
     "data": {
      "image/png": "[encoded data removed]",
      "text/plain": [
       "<matplotlib.figure.Figure at 0x1a1460d908>"
      ]
     },
     "metadata": {},
     "output_type": "display_data"
    }
   ],
   "source": [
    "scatter(X[:,0], X[:,1], c=y, alpha=0.6); # alpha: 0.0 transparent through 1.0 opaque"
   ]
  },
  {
   "cell_type": "markdown",
   "metadata": {},
   "source": [
    "### [Split Training Data and Test Data](http://scikit-learn.org/stable/modules/generated/sklearn.model_selection.train_test_split.html)"
   ]
  },
  {
   "cell_type": "code",
   "execution_count": 21,
   "metadata": {},
   "outputs": [],
   "source": [
    "from sklearn.model_selection import train_test_split"
   ]
  },
  {
   "cell_type": "code",
   "execution_count": 22,
   "metadata": {},
   "outputs": [
    {
     "data": {
      "text/plain": [
       "array([0, 1, 2, 3, 4, 5, 6, 7, 8, 9])"
      ]
     },
     "execution_count": 22,
     "metadata": {},
     "output_type": "execute_result"
    }
   ],
   "source": [
    "Y = np.arange(10)\n",
    "Y"
   ]
  },
  {
   "cell_type": "code",
   "execution_count": 23,
   "metadata": {},
   "outputs": [
    {
     "data": {
      "text/plain": [
       "array([[ 0,  1],\n",
       "       [ 2,  3],\n",
       "       [ 4,  5],\n",
       "       [ 6,  7],\n",
       "       [ 8,  9],\n",
       "       [10, 11],\n",
       "       [12, 13],\n",
       "       [14, 15],\n",
       "       [16, 17],\n",
       "       [18, 19]])"
      ]
     },
     "execution_count": 23,
     "metadata": {},
     "output_type": "execute_result"
    }
   ],
   "source": [
    "X = np.arange(20).reshape(10, 2)\n",
    "X"
   ]
  },
  {
   "cell_type": "code",
   "execution_count": 24,
   "metadata": {},
   "outputs": [
    {
     "name": "stdout",
     "output_type": "stream",
     "text": [
      "X_train: \n",
      " [[16 17]\n",
      " [18 19]\n",
      " [ 8  9]\n",
      " [10 11]\n",
      " [ 2  3]\n",
      " [ 4  5]\n",
      " [12 13]]\n",
      "X_test: \n",
      " [[ 0  1]\n",
      " [ 6  7]\n",
      " [14 15]]\n",
      "Y_train: \n",
      " [8 9 4 5 1 2 6]\n",
      "Y_test: \n",
      " [0 3 7]\n"
     ]
    }
   ],
   "source": [
    "X_train, X_test, Y_train, Y_test = train_test_split(X, Y, test_size=0.25, random_state=2018)\n",
    "print('X_train: \\n', X_train)\n",
    "print('X_test: \\n', X_test)\n",
    "print('Y_train: \\n', Y_train)\n",
    "print('Y_test: \\n', Y_test)"
   ]
  },
  {
   "cell_type": "code",
   "execution_count": 25,
   "metadata": {},
   "outputs": [
    {
     "name": "stdout",
     "output_type": "stream",
     "text": [
      "X_train: \n",
      " [[ 0  1]\n",
      " [ 2  3]\n",
      " [ 4  5]\n",
      " [ 6  7]\n",
      " [ 8  9]\n",
      " [10 11]\n",
      " [12 13]]\n",
      "X_test: \n",
      " [[14 15]\n",
      " [16 17]\n",
      " [18 19]]\n",
      "Y_train: \n",
      " [0 1 2 3 4 5 6]\n",
      "Y_test: \n",
      " [7 8 9]\n"
     ]
    }
   ],
   "source": [
    "# If you don't want to shuffle\n",
    "X_train, X_test, Y_train, Y_test = train_test_split(X, Y, test_size=0.25, random_state=2018, shuffle=False)\n",
    "print('X_train: \\n', X_train)\n",
    "print('X_test: \\n', X_test)\n",
    "print('Y_train: \\n', Y_train)\n",
    "print('Y_test: \\n', Y_test)"
   ]
  },
  {
   "cell_type": "markdown",
   "metadata": {},
   "source": [
    "### [Cross-Validation](http://scikit-learn.org/stable/modules/cross_validation.html)"
   ]
  },
  {
   "cell_type": "code",
   "execution_count": 26,
   "metadata": {},
   "outputs": [],
   "source": [
    "from sklearn.model_selection import cross_val_score"
   ]
  },
  {
   "cell_type": "code",
   "execution_count": 27,
   "metadata": {},
   "outputs": [],
   "source": [
    "wine = datasets.load_wine()"
   ]
  },
  {
   "cell_type": "code",
   "execution_count": 28,
   "metadata": {},
   "outputs": [
    {
     "data": {
      "text/plain": [
       "dict_keys(['data', 'target', 'target_names', 'DESCR', 'feature_names'])"
      ]
     },
     "execution_count": 28,
     "metadata": {},
     "output_type": "execute_result"
    }
   ],
   "source": [
    "wine.keys()"
   ]
  },
  {
   "cell_type": "code",
   "execution_count": 29,
   "metadata": {},
   "outputs": [
    {
     "data": {
      "text/plain": [
       "(178, 13)"
      ]
     },
     "execution_count": 29,
     "metadata": {},
     "output_type": "execute_result"
    }
   ],
   "source": [
    "# Features\n",
    "wine.data.shape"
   ]
  },
  {
   "cell_type": "code",
   "execution_count": 30,
   "metadata": {},
   "outputs": [
    {
     "data": {
      "text/plain": [
       "(178,)"
      ]
     },
     "execution_count": 30,
     "metadata": {},
     "output_type": "execute_result"
    }
   ],
   "source": [
    "# Label\n",
    "wine.target.shape"
   ]
  },
  {
   "cell_type": "code",
   "execution_count": 31,
   "metadata": {},
   "outputs": [
    {
     "data": {
      "text/plain": [
       "(array([0, 1, 2]), array([59, 71, 48]))"
      ]
     },
     "execution_count": 31,
     "metadata": {},
     "output_type": "execute_result"
    }
   ],
   "source": [
    "# How many class and how many observation in each class\n",
    "np.unique(wine.target, return_counts=True)"
   ]
  },
  {
   "cell_type": "code",
   "execution_count": 32,
   "metadata": {},
   "outputs": [],
   "source": [
    "from sklearn import neighbors"
   ]
  },
  {
   "cell_type": "code",
   "execution_count": 33,
   "metadata": {},
   "outputs": [
    {
     "name": "stdout",
     "output_type": "stream",
     "text": [
      "[ 0.68421053  0.55555556  0.72222222  0.66666667  0.66666667  0.66666667\n",
      "  0.72222222  0.77777778  0.88235294  0.875     ]\n"
     ]
    }
   ],
   "source": [
    "knn = neighbors.KNeighborsClassifier(n_neighbors=3)\n",
    "cvscores = cross_val_score(estimator=knn, X=wine.data, y=wine.target, cv=10)\n",
    "print(cvscores)"
   ]
  },
  {
   "cell_type": "code",
   "execution_count": 34,
   "metadata": {},
   "outputs": [
    {
     "data": {
      "text/plain": [
       "0.72193412452700367"
      ]
     },
     "execution_count": 34,
     "metadata": {},
     "output_type": "execute_result"
    }
   ],
   "source": [
    "mean(cvscores)"
   ]
  },
  {
   "cell_type": "code",
   "execution_count": 35,
   "metadata": {},
   "outputs": [],
   "source": [
    "# Alternatively\n",
    "\n",
    "# Split dataset into k consecutive folds (without shuffling by default).\n",
    "from sklearn.model_selection import KFold\n",
    "\n",
    "# The folds are made by preserving the percentage of samples for each class\n",
    "from sklearn.model_selection import StratifiedKFold "
   ]
  },
  {
   "cell_type": "code",
   "execution_count": 36,
   "metadata": {},
   "outputs": [
    {
     "data": {
      "text/plain": [
       "(178, 13)"
      ]
     },
     "execution_count": 36,
     "metadata": {},
     "output_type": "execute_result"
    }
   ],
   "source": [
    "wine.data.shape"
   ]
  },
  {
   "cell_type": "code",
   "execution_count": 37,
   "metadata": {},
   "outputs": [
    {
     "data": {
      "text/plain": [
       "(178,)"
      ]
     },
     "execution_count": 37,
     "metadata": {},
     "output_type": "execute_result"
    }
   ],
   "source": [
    "wine.target.shape"
   ]
  },
  {
   "cell_type": "code",
   "execution_count": 38,
   "metadata": {},
   "outputs": [
    {
     "name": "stdout",
     "output_type": "stream",
     "text": [
      "Fold1: [ 30  31  32  33  34  35  36  37  38  39  40  41  42  43  44  45  46  47\n",
      "  48  49  50  51  52  53  54  55  56  57  58  95  96  97  98  99 100 101\n",
      " 102 103 104 105 106 107 108 109 110 111 112 113 114 115 116 117 118 119\n",
      " 120 121 122 123 124 125 126 127 128 129 154 155 156 157 158 159 160 161\n",
      " 162 163 164 165 166 167 168 169 170 171 172 173 174 175 176 177]\n",
      "Fold2: [  0   1   2   3   4   5   6   7   8   9  10  11  12  13  14  15  16  17\n",
      "  18  19  20  21  22  23  24  25  26  27  28  29  59  60  61  62  63  64\n",
      "  65  66  67  68  69  70  71  72  73  74  75  76  77  78  79  80  81  82\n",
      "  83  84  85  86  87  88  89  90  91  92  93  94 130 131 132 133 134 135\n",
      " 136 137 138 139 140 141 142 143 144 145 146 147 148 149 150 151 152 153]\n",
      "\n",
      "\n",
      "Fold1: [  0   1   2   3   4   5   6   7   8   9  10  11  12  13  14  15  16  17\n",
      "  18  19  20  21  22  23  24  25  26  27  28  29  59  60  61  62  63  64\n",
      "  65  66  67  68  69  70  71  72  73  74  75  76  77  78  79  80  81  82\n",
      "  83  84  85  86  87  88  89  90  91  92  93  94 130 131 132 133 134 135\n",
      " 136 137 138 139 140 141 142 143 144 145 146 147 148 149 150 151 152 153]\n",
      "Fold2: [ 30  31  32  33  34  35  36  37  38  39  40  41  42  43  44  45  46  47\n",
      "  48  49  50  51  52  53  54  55  56  57  58  95  96  97  98  99 100 101\n",
      " 102 103 104 105 106 107 108 109 110 111 112 113 114 115 116 117 118 119\n",
      " 120 121 122 123 124 125 126 127 128 129 154 155 156 157 158 159 160 161\n",
      " 162 163 164 165 166 167 168 169 170 171 172 173 174 175 176 177]\n",
      "\n",
      "\n"
     ]
    }
   ],
   "source": [
    "skf = StratifiedKFold(n_splits=2, shuffle=False, random_state=2018) # random_state used when shuffle == True.\n",
    "for fold1_index, fold2_index in skf.split(wine.data, wine.target):\n",
    "    print('Fold1:', fold1_index)\n",
    "    print('Fold2:', fold2_index)\n",
    "    print('\\n')"
   ]
  },
  {
   "cell_type": "code",
   "execution_count": 39,
   "metadata": {},
   "outputs": [
    {
     "name": "stdout",
     "output_type": "stream",
     "text": [
      "Fold1:\n",
      "(array([0, 1, 2]), array([30, 36, 24]))\n",
      "Fold2:\n",
      "(array([0, 1, 2]), array([29, 35, 24]))\n"
     ]
    }
   ],
   "source": [
    "# The distribution of each class in each folds\n",
    "y_fold1 = wine.target[fold1_index]\n",
    "y_fold2 = wine.target[fold2_index]\n",
    "print('Fold1:')\n",
    "print(np.unique(y_fold1, return_counts=True))\n",
    "print('Fold2:')\n",
    "print(np.unique(y_fold2, return_counts=True))"
   ]
  },
  {
   "cell_type": "code",
   "execution_count": 40,
   "metadata": {},
   "outputs": [
    {
     "name": "stdout",
     "output_type": "stream",
     "text": [
      "Fold1: [  0   4   6   9  16  19  22  25  26  27  29  31  34  38  40  42  43  44\n",
      "  45  46  47  49  50  55  59  60  61  65  67  70  71  72  73  74  75  76\n",
      "  77  79  83  86  87  88  93  96  97  98  99 100 102 103 104 105 109 113\n",
      " 114 117 119 120 122 123 126 127 128 130 134 135 137 141 142 145 147 148\n",
      " 149 150 151 152 153 154 156 157 159 160 163 164 170 171 172 175 177]\n",
      "Fold2: [  1   2   3   5   7   8  10  11  12  13  14  15  17  18  20  21  23  24\n",
      "  28  30  32  33  35  36  37  39  41  48  51  52  53  54  56  57  58  62\n",
      "  63  64  66  68  69  78  80  81  82  84  85  89  90  91  92  94  95 101\n",
      " 106 107 108 110 111 112 115 116 118 121 124 125 129 131 132 133 136 138\n",
      " 139 140 143 144 146 155 158 161 162 165 166 167 168 169 173 174 176]\n",
      "\n",
      "\n",
      "Fold1: [  1   2   3   5   7   8  10  11  12  13  14  15  17  18  20  21  23  24\n",
      "  28  30  32  33  35  36  37  39  41  48  51  52  53  54  56  57  58  62\n",
      "  63  64  66  68  69  78  80  81  82  84  85  89  90  91  92  94  95 101\n",
      " 106 107 108 110 111 112 115 116 118 121 124 125 129 131 132 133 136 138\n",
      " 139 140 143 144 146 155 158 161 162 165 166 167 168 169 173 174 176]\n",
      "Fold2: [  0   4   6   9  16  19  22  25  26  27  29  31  34  38  40  42  43  44\n",
      "  45  46  47  49  50  55  59  60  61  65  67  70  71  72  73  74  75  76\n",
      "  77  79  83  86  87  88  93  96  97  98  99 100 102 103 104 105 109 113\n",
      " 114 117 119 120 122 123 126 127 128 130 134 135 137 141 142 145 147 148\n",
      " 149 150 151 152 153 154 156 157 159 160 163 164 170 171 172 175 177]\n",
      "\n",
      "\n"
     ]
    }
   ],
   "source": [
    "kf = KFold(n_splits=2, shuffle=True, random_state=2018) # random_state used when shuffle == True.\n",
    "for fold1_index, fold2_index in kf.split(wine.data, wine.target):\n",
    "    print('Fold1:', fold1_index)\n",
    "    print('Fold2:', fold2_index)\n",
    "    print('\\n')"
   ]
  },
  {
   "cell_type": "code",
   "execution_count": 41,
   "metadata": {},
   "outputs": [
    {
     "name": "stdout",
     "output_type": "stream",
     "text": [
      "Fold1:\n",
      "(array([0, 1, 2]), array([35, 32, 22]))\n",
      "Fold2:\n",
      "(array([0, 1, 2]), array([24, 39, 26]))\n"
     ]
    }
   ],
   "source": [
    "# The distribution of each class in each folds\n",
    "y_fold1 = wine.target[fold1_index]\n",
    "y_fold2 = wine.target[fold2_index]\n",
    "print('Fold1:')\n",
    "print(np.unique(y_fold1, return_counts=True))\n",
    "print('Fold2:')\n",
    "print(np.unique(y_fold2, return_counts=True))"
   ]
  },
  {
   "cell_type": "markdown",
   "metadata": {},
   "source": [
    "- <font color=\"red\">**NOTE**: </font> Be careful of the unbalanced when split the data"
   ]
  },
  {
   "cell_type": "code",
   "execution_count": null,
   "metadata": {},
   "outputs": [],
   "source": []
  },
  {
   "cell_type": "code",
   "execution_count": null,
   "metadata": {},
   "outputs": [],
   "source": []
  },
  {
   "cell_type": "code",
   "execution_count": null,
   "metadata": {},
   "outputs": [],
   "source": []
  },
  {
   "cell_type": "code",
   "execution_count": null,
   "metadata": {},
   "outputs": [],
   "source": []
  },
  {
   "cell_type": "code",
   "execution_count": null,
   "metadata": {},
   "outputs": [],
   "source": []
  },
  {
   "cell_type": "code",
   "execution_count": null,
   "metadata": {},
   "outputs": [],
   "source": []
  }
 ],
 "metadata": {
  "anaconda-cloud": {},
  "kernelspec": {
   "display_name": "Python 3",
   "language": "python",
   "name": "python3"
  },
  "language_info": {
   "codemirror_mode": {
    "name": "ipython",
    "version": 3
   },
   "file_extension": ".py",
   "mimetype": "text/x-python",
   "name": "python",
   "nbconvert_exporter": "python",
   "pygments_lexer": "ipython3",
   "version": "3.6.6"
  },
  "nbpresent": {
   "slides": {
    "0db15b68-434e-4168-b87b-8c022669e794": {
     "id": "0db15b68-434e-4168-b87b-8c022669e794",
     "prev": "9d7d757a-65fc-4a11-9255-d6f44b7cd7d0",
     "regions": {
      "6d136006-49fb-40d9-94c1-7aa9b7f780bd": {
       "attrs": {
        "height": 0.8,
        "width": 0.8,
        "x": 0.1,
        "y": 0.1
       },
       "content": {
        "cell": "fa034999-d4ca-4a7a-bfe1-738e03123fac",
        "part": "whole"
       },
       "id": "6d136006-49fb-40d9-94c1-7aa9b7f780bd"
      }
     }
    },
    "1acb2407-3452-43a9-998e-036067e56e7e": {
     "id": "1acb2407-3452-43a9-998e-036067e56e7e",
     "prev": "861f7e4d-723f-4bab-8273-6498380d395c",
     "regions": {
      "cb08a654-8e86-4073-b831-033065f34bf5": {
       "attrs": {
        "height": 0.8,
        "width": 0.8,
        "x": 0.1,
        "y": 0.1
       },
       "content": {
        "cell": "be3e9a65-83ef-4b03-a7e1-3fdc67433261",
        "part": "whole"
       },
       "id": "cb08a654-8e86-4073-b831-033065f34bf5"
      }
     }
    },
    "2d51d07f-6d89-43d4-846b-ca0dc6246a3b": {
     "id": "2d51d07f-6d89-43d4-846b-ca0dc6246a3b",
     "prev": "582a2192-ea55-41d1-925a-af0037e5eb79",
     "regions": {
      "ce8fd56c-bddf-49bb-b934-9b62844872af": {
       "attrs": {
        "height": 0.8,
        "width": 0.8,
        "x": 0.1,
        "y": 0.1
       },
       "content": {
        "cell": "14fae3f4-c070-495a-a7b6-2253f5539878",
        "part": "whole"
       },
       "id": "ce8fd56c-bddf-49bb-b934-9b62844872af"
      }
     }
    },
    "2d7b1ea3-3bba-4837-8661-bb5154a57cb7": {
     "id": "2d7b1ea3-3bba-4837-8661-bb5154a57cb7",
     "prev": "b62bafb2-a360-4698-a1f8-38cacd8c8630",
     "regions": {
      "32c42ccc-fffe-4034-89a5-5300897ef541": {
       "attrs": {
        "height": 0.8,
        "width": 0.8,
        "x": 0.1,
        "y": 0.1
       },
       "content": {
        "cell": "b8920874-4b6e-4946-a26e-461506850628",
        "part": "whole"
       },
       "id": "32c42ccc-fffe-4034-89a5-5300897ef541"
      }
     }
    },
    "301d2155-5b7a-457a-93fc-97f72fa3d455": {
     "id": "301d2155-5b7a-457a-93fc-97f72fa3d455",
     "prev": "0db15b68-434e-4168-b87b-8c022669e794",
     "regions": {
      "13a84692-d66a-4194-9372-4544e600756a": {
       "attrs": {
        "height": 0.8,
        "width": 0.8,
        "x": 0.1,
        "y": 0.1
       },
       "content": {
        "cell": "16aa483a-9bdc-419c-ab32-ddb981316486",
        "part": "whole"
       },
       "id": "13a84692-d66a-4194-9372-4544e600756a"
      }
     }
    },
    "3bba41e5-c337-46c7-8891-d1472e516da9": {
     "id": "3bba41e5-c337-46c7-8891-d1472e516da9",
     "prev": "ea0b5edb-dffd-4ec9-8638-290a1aec9677",
     "regions": {
      "91b168e1-822c-43fa-87ed-47811383617c": {
       "attrs": {
        "height": 0.8,
        "width": 0.8,
        "x": 0.1,
        "y": 0.1
       },
       "content": {
        "cell": "e5e31e5b-f66c-4c7f-9fca-ddd919059fa1",
        "part": "whole"
       },
       "id": "91b168e1-822c-43fa-87ed-47811383617c"
      }
     }
    },
    "46653369-0661-40cc-b956-361332d6f315": {
     "id": "46653369-0661-40cc-b956-361332d6f315",
     "prev": "e4ad3da0-6237-4a55-95fb-a06428a2ba21",
     "regions": {
      "fe70bc85-3b45-42c4-99fd-120c47a1826d": {
       "attrs": {
        "height": 0.8,
        "width": 0.8,
        "x": 0.1,
        "y": 0.1
       },
       "content": {
        "cell": "4349fff5-7a9a-49be-a174-0f302cc3e27b",
        "part": "whole"
       },
       "id": "fe70bc85-3b45-42c4-99fd-120c47a1826d"
      }
     }
    },
    "582a2192-ea55-41d1-925a-af0037e5eb79": {
     "id": "582a2192-ea55-41d1-925a-af0037e5eb79",
     "prev": "707540a1-c8f8-47f1-8003-fe25d3423c20",
     "regions": {
      "bf516684-c3cc-4e37-81a5-8ba4be359b2f": {
       "attrs": {
        "height": 0.8,
        "width": 0.8,
        "x": 0.1,
        "y": 0.1
       },
       "content": {
        "cell": "3ee5d8bb-95e3-48f1-bc1d-89b2874f040f",
        "part": "whole"
       },
       "id": "bf516684-c3cc-4e37-81a5-8ba4be359b2f"
      }
     }
    },
    "65d54aeb-8b28-49ef-96ca-93799a8b7897": {
     "id": "65d54aeb-8b28-49ef-96ca-93799a8b7897",
     "prev": "3bba41e5-c337-46c7-8891-d1472e516da9",
     "regions": {
      "e4e9b2bc-9ca1-433f-adb7-b3c3e3cc41dc": {
       "attrs": {
        "height": 0.8,
        "width": 0.8,
        "x": 0.1,
        "y": 0.1
       },
       "content": {
        "cell": "570e824d-f0d2-4ee0-a32c-fc20d8dc78f4",
        "part": "whole"
       },
       "id": "e4e9b2bc-9ca1-433f-adb7-b3c3e3cc41dc"
      }
     }
    },
    "707540a1-c8f8-47f1-8003-fe25d3423c20": {
     "id": "707540a1-c8f8-47f1-8003-fe25d3423c20",
     "prev": "7e74aab8-84a3-4394-885f-92f97f560083",
     "regions": {
      "6bce4587-52cb-4228-b802-b38e002892cf": {
       "attrs": {
        "height": 0.8,
        "width": 0.8,
        "x": 0.1,
        "y": 0.1
       },
       "content": {
        "cell": "37cdbbee-2d2a-4214-b26b-ba7a91ba566e",
        "part": "whole"
       },
       "id": "6bce4587-52cb-4228-b802-b38e002892cf"
      }
     }
    },
    "7e74aab8-84a3-4394-885f-92f97f560083": {
     "id": "7e74aab8-84a3-4394-885f-92f97f560083",
     "prev": "301d2155-5b7a-457a-93fc-97f72fa3d455",
     "regions": {
      "4c5ba40b-6e82-47e4-a992-1282d727a173": {
       "attrs": {
        "height": 0.8,
        "width": 0.8,
        "x": 0.1,
        "y": 0.1
       },
       "content": {
        "cell": "821311cd-c763-4c57-be59-e545cd81188e",
        "part": "whole"
       },
       "id": "4c5ba40b-6e82-47e4-a992-1282d727a173"
      }
     }
    },
    "861f7e4d-723f-4bab-8273-6498380d395c": {
     "id": "861f7e4d-723f-4bab-8273-6498380d395c",
     "prev": "46653369-0661-40cc-b956-361332d6f315",
     "regions": {
      "7a6f1aa7-fcc3-46d6-ad44-d1dac7ea5c8a": {
       "attrs": {
        "height": 0.8,
        "width": 0.8,
        "x": 0.1,
        "y": 0.1
       },
       "content": {
        "cell": "a4ed11a3-064c-4aba-afc5-27020039d755",
        "part": "whole"
       },
       "id": "7a6f1aa7-fcc3-46d6-ad44-d1dac7ea5c8a"
      }
     }
    },
    "9d7d757a-65fc-4a11-9255-d6f44b7cd7d0": {
     "id": "9d7d757a-65fc-4a11-9255-d6f44b7cd7d0",
     "prev": "2d7b1ea3-3bba-4837-8661-bb5154a57cb7",
     "regions": {
      "a027b389-192c-4235-87af-8da05444fdc5": {
       "attrs": {
        "height": 0.8,
        "width": 0.8,
        "x": 0.1,
        "y": 0.1
       },
       "content": {
        "cell": "28ccfbf6-3a33-4e28-a9f3-93e3e230a3fe",
        "part": "whole"
       },
       "id": "a027b389-192c-4235-87af-8da05444fdc5"
      }
     }
    },
    "b62bafb2-a360-4698-a1f8-38cacd8c8630": {
     "id": "b62bafb2-a360-4698-a1f8-38cacd8c8630",
     "prev": "d0a8c858-42da-4085-8e9f-f35cb6607c91",
     "regions": {
      "8667f7e5-7002-4d20-9bb6-2461ee04834d": {
       "attrs": {
        "height": 0.8,
        "width": 0.8,
        "x": 0.1,
        "y": 0.1
       },
       "content": {
        "cell": "6f060d06-d47e-4e84-9d27-313e2e9f2515",
        "part": "whole"
       },
       "id": "8667f7e5-7002-4d20-9bb6-2461ee04834d"
      }
     }
    },
    "d0a8c858-42da-4085-8e9f-f35cb6607c91": {
     "id": "d0a8c858-42da-4085-8e9f-f35cb6607c91",
     "prev": "1acb2407-3452-43a9-998e-036067e56e7e",
     "regions": {
      "82bc29cf-fd7e-4f73-be21-bbd7f1d174c5": {
       "attrs": {
        "height": 0.8,
        "width": 0.8,
        "x": 0.1,
        "y": 0.1
       },
       "content": {
        "cell": "c0cae685-cadf-4c80-abd1-5bfdaa093971",
        "part": "whole"
       },
       "id": "82bc29cf-fd7e-4f73-be21-bbd7f1d174c5"
      }
     }
    },
    "e4ad3da0-6237-4a55-95fb-a06428a2ba21": {
     "id": "e4ad3da0-6237-4a55-95fb-a06428a2ba21",
     "prev": "65d54aeb-8b28-49ef-96ca-93799a8b7897",
     "regions": {
      "c187c83b-38db-44ec-8a18-03240ec0bca5": {
       "attrs": {
        "height": 0.8,
        "width": 0.8,
        "x": 0.1,
        "y": 0.1
       },
       "content": {
        "cell": "9e13cc51-e810-49c3-ac4c-82398c17211d",
        "part": "whole"
       },
       "id": "c187c83b-38db-44ec-8a18-03240ec0bca5"
      }
     }
    },
    "ea0b5edb-dffd-4ec9-8638-290a1aec9677": {
     "id": "ea0b5edb-dffd-4ec9-8638-290a1aec9677",
     "prev": null,
     "regions": {
      "30a33912-3209-4e73-a603-05cea335aa3e": {
       "attrs": {
        "height": 0.8,
        "width": 0.8,
        "x": 0.1,
        "y": 0.1
       },
       "content": {
        "cell": "978ff1f5-ffac-4819-b832-db261a5fb32c",
        "part": "whole"
       },
       "id": "30a33912-3209-4e73-a603-05cea335aa3e"
      }
     }
    }
   },
   "themes": {}
  },
  "toc": {
   "nav_menu": {},
   "number_sections": false,
   "sideBar": true,
   "skip_h1_title": false,
   "title_cell": "Table of Contents",
   "title_sidebar": "Contents",
   "toc_cell": false,
   "toc_position": {},
   "toc_section_display": true,
   "toc_window_display": false
  },
  "varInspector": {
   "cols": {
    "lenName": 16,
    "lenType": 16,
    "lenVar": 40
   },
   "kernels_config": {
    "python": {
     "delete_cmd_postfix": "",
     "delete_cmd_prefix": "del ",
     "library": "var_list.py",
     "varRefreshCmd": "print(var_dic_list())"
    },
    "r": {
     "delete_cmd_postfix": ") ",
     "delete_cmd_prefix": "rm(",
     "library": "var_list.r",
     "varRefreshCmd": "cat(var_dic_list()) "
    }
   },
   "types_to_exclude": [
    "module",
    "function",
    "builtin_function_or_method",
    "instance",
    "_Feature"
   ],
   "window_display": false
  }
 },
 "nbformat": 4,
 "nbformat_minor": 1
}
