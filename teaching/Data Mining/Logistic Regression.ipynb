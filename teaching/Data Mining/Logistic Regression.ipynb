{
 "cells": [
  {
   "cell_type": "markdown",
   "metadata": {},
   "source": [
    "<hr/>\n",
    "\n",
    "# Data Mining  \n",
    "\n",
    "03/26/2018\n",
    "\n",
    "**Cong Mu** - cmu2@jhu.edu  <br/>\n",
    "\n",
    "- **Logistic Regression** \n",
    "- **Q & A**\n",
    "\n",
    "<hr/>"
   ]
  },
  {
   "cell_type": "code",
   "execution_count": 1,
   "metadata": {},
   "outputs": [
    {
     "name": "stdout",
     "output_type": "stream",
     "text": [
      "Populating the interactive namespace from numpy and matplotlib\n"
     ]
    }
   ],
   "source": [
    "%pylab inline"
   ]
  },
  {
   "cell_type": "code",
   "execution_count": 2,
   "metadata": {},
   "outputs": [],
   "source": [
    "import pandas as pd\n",
    "from scipy import linalg"
   ]
  },
  {
   "cell_type": "markdown",
   "metadata": {},
   "source": [
    "<h2><font color=\"darkblue\">Logistic Regression</font></h2>\n",
    "<hr/>"
   ]
  },
  {
   "cell_type": "markdown",
   "metadata": {},
   "source": [
    "### Preliminaries"
   ]
  },
  {
   "cell_type": "markdown",
   "metadata": {},
   "source": [
    "- Sigmoid function\n",
    "> $ \\displaystyle S(x) = \\frac{1}{1+e^{-x}} = \\frac{e^x}{1+e^x} \\qquad 0 < S(x) < 1 $\n",
    "\n",
    "<img src=\"https://upload.wikimedia.org/wikipedia/commons/8/88/Logistic-curve.svg\" width=300 align=center \\>\n",
    "\n",
    "<p style=\"text-align:right\">(Picture from https://en.wikipedia.org/wiki/Sigmoid_function)</p>\n",
    "\n",
    "- Logit\n",
    "> $ \\displaystyle \\text{logit}(p) = \\log \\left( \\frac{p}{1-p} \\right) \\qquad 0 < p < 1 $\n",
    "\n",
    "<img src=\"https://upload.wikimedia.org/wikipedia/commons/c/c8/Logit.svg\" width=300 align=center \\>\n",
    "\n",
    "<p style=\"text-align:right\">(Picture from https://en.wikipedia.org/wiki/Logit)</p>\n",
    "\n",
    "- What is the relationship between them?\n",
    "> $ \\displaystyle \\text{logit}(p) = \\log \\left( \\frac{p}{1-p} \\right) \\quad \\Longrightarrow \\quad e^{\\text{logit}(p)} = \\frac{p}{1-p} \\quad \\Longrightarrow \\quad p = \\frac{e^{\\text{logit}(p)}}{1+e^{\\text{logit}(p)}} $"
   ]
  },
  {
   "cell_type": "markdown",
   "metadata": {},
   "source": [
    "### Recall Linear Regression"
   ]
  },
  {
   "cell_type": "markdown",
   "metadata": {},
   "source": [
    "- General Form\n",
    "> $ \\displaystyle Y = X \\beta + \\epsilon $\n",
    "\n",
    "- Fit (least square)\n",
    "> $ \\displaystyle \\widehat{\\beta} = (X^\\top X)^{-1} X^\\top Y $\n",
    "\n",
    "- Predict\n",
    "> $ \\displaystyle \\widehat{Y} = X \\widehat{\\beta} $\n",
    "\n",
    "- Note that $ Y $ here is usually continuous. What if we have $ Y $ that is categorical, for example $ \\displaystyle Y \\in \\{ 0, 1 \\} $"
   ]
  },
  {
   "cell_type": "code",
   "execution_count": 3,
   "metadata": {},
   "outputs": [
    {
     "name": "stdout",
     "output_type": "stream",
     "text": [
      "Features:  (100, 1)\n",
      "Target:  (100,)\n"
     ]
    }
   ],
   "source": [
    "# Generate data\n",
    "n_samples = 100\n",
    "np.random.seed(2018)\n",
    "\n",
    "x = np.random.normal(size=n_samples)\n",
    "y = (x > 0).astype(np.float)\n",
    "x[x > 0] *= 4\n",
    "x += .3 * np.random.normal(size=n_samples)\n",
    "x = x[:, np.newaxis]\n",
    "\n",
    "print('Features: ', x.shape)\n",
    "print('Target: ', y.shape)"
   ]
  },
  {
   "cell_type": "code",
   "execution_count": 4,
   "metadata": {},
   "outputs": [
    {
     "data": {
      "image/png": "[encoded data removed]",
      "text/plain": [
       "<matplotlib.figure.Figure at 0x109cdb978>"
      ]
     },
     "metadata": {},
     "output_type": "display_data"
    }
   ],
   "source": [
    "scatter(x, y, color='black');"
   ]
  },
  {
   "cell_type": "markdown",
   "metadata": {},
   "source": [
    "- For this example, if we fit a linear regression model\n",
    "> $ \\displaystyle y = \\beta_0 + \\beta_1 x + \\epsilon $\n",
    ">\n",
    "> $ \\displaystyle \\widehat{y} = \\widehat{\\beta}_0 + \\widehat{\\beta}_1 x $"
   ]
  },
  {
   "cell_type": "code",
   "execution_count": 5,
   "metadata": {},
   "outputs": [],
   "source": [
    "# Fit a linear regression model\n",
    "XX = np.ones((x.shape[0], 2))\n",
    "XX[:,1] = x.ravel()\n",
    "bHat = linalg.inv(XX.T.dot(XX)).dot(XX.T).dot(y)\n",
    "b0, b1 = bHat"
   ]
  },
  {
   "cell_type": "code",
   "execution_count": 6,
   "metadata": {},
   "outputs": [
    {
     "data": {
      "image/png": "[encoded data removed]",
      "text/plain": [
       "<matplotlib.figure.Figure at 0x11150c048>"
      ]
     },
     "metadata": {},
     "output_type": "display_data"
    }
   ],
   "source": [
    "X_test = np.linspace(-5, 10, 300)\n",
    "\n",
    "plot(X_test, b0 + b1 * X_test, linewidth=1);\n",
    "scatter(x, y, color='black');"
   ]
  },
  {
   "cell_type": "markdown",
   "metadata": {},
   "source": [
    "### Logistic Regression (Binary)"
   ]
  },
  {
   "cell_type": "markdown",
   "metadata": {},
   "source": [
    "- General Form\n",
    "> $ \\displaystyle \\text{logit} \\left[ \\pi(x) \\right] = \\log \\left[ \\frac{\\pi(x)}{1-\\pi(x)} \\right] = \\beta_0 + \\beta_1 x \\qquad $ where $ \\displaystyle \\qquad \\pi(x) = \\mathbb{P}(y=1 \\ | \\ X = x) $\n",
    "\n",
    "- Fit (maximum likelihood)\n",
    "> $ \\displaystyle \\mathcal{L}(\\beta_0, \\beta_1) = \\prod\\limits_{i: y_i = 1} \\pi(x_i; \\beta_0, \\beta_1) \\prod\\limits_{j: y_{j} = 0} [1 - \\pi(x_j; \\beta_0, \\beta_1)] $\n",
    ">\n",
    "> $ \\displaystyle l(\\beta_0, \\beta_1) = \\log \\mathcal{L}(\\beta_0, \\beta_1) = \\sum_{i=1}^{n} \\left[y_i \\log \\pi(x_i; \\beta_0, \\beta_1) + (1-y_i) \\log(1-\\pi(x_i; \\beta_0, \\beta_1)) \\right] = \\sum_{i=1}^{n} \\left[y_i (\\beta_0 + \\beta_1 x_i) - \\log (1 + \\exp (\\beta_0 + \\beta_1 x_i))  \\right] $\n",
    ">\n",
    "> $ \\displaystyle \\widehat{\\beta}_0, \\widehat{\\beta}_1 = \\arg \\max_{\\beta_0, \\beta_1} l(\\beta_0, \\beta_1) $\n",
    "\n",
    "- Predict\n",
    "> $ \\displaystyle \\widehat{\\pi}(x) = \\frac{\\exp \\left( \\widehat{\\beta}_0 + \\widehat{\\beta}_1 x \\right)}{1 + \\exp \\left( \\widehat{\\beta}_0 + \\widehat{\\beta}_1 x \\right) } $"
   ]
  },
  {
   "cell_type": "code",
   "execution_count": 7,
   "metadata": {},
   "outputs": [
    {
     "data": {
      "image/png": "[encoded data removed]",
      "text/plain": [
       "<matplotlib.figure.Figure at 0x1062fc2b0>"
      ]
     },
     "metadata": {},
     "output_type": "display_data"
    }
   ],
   "source": [
    "scatter(x, y, color='black');"
   ]
  },
  {
   "cell_type": "markdown",
   "metadata": {},
   "source": [
    "- For the same example above, if we fit a logistic regression model\n",
    "> $ \\displaystyle \\text{logit}(y) = \\log \\left( \\frac{y}{1-y} \\right) = \\beta_0 + \\beta_1 x $\n",
    ">\n",
    "> $ \\displaystyle \\widehat{y} = \\frac{\\exp \\left( \\widehat{\\beta}_0 + \\widehat{\\beta}_1 x \\right)}{1 + \\exp \\left( \\widehat{\\beta}_0 + \\widehat{\\beta}_1 x \\right) } $"
   ]
  },
  {
   "cell_type": "code",
   "execution_count": 8,
   "metadata": {},
   "outputs": [],
   "source": [
    "from sklearn.linear_model import LogisticRegression"
   ]
  },
  {
   "cell_type": "code",
   "execution_count": 9,
   "metadata": {},
   "outputs": [
    {
     "data": {
      "text/plain": [
       "LogisticRegression(C=100000.0, class_weight=None, dual=False,\n",
       "          fit_intercept=True, intercept_scaling=1, max_iter=100,\n",
       "          multi_class='ovr', n_jobs=1, penalty='l2', random_state=None,\n",
       "          solver='liblinear', tol=0.0001, verbose=0, warm_start=False)"
      ]
     },
     "execution_count": 9,
     "metadata": {},
     "output_type": "execute_result"
    }
   ],
   "source": [
    "# Fit a logistic regression model\n",
    "clf = LogisticRegression(C=1e5)\n",
    "clf.fit(x, y)"
   ]
  },
  {
   "cell_type": "code",
   "execution_count": 10,
   "metadata": {},
   "outputs": [],
   "source": [
    "def Sigmoid(x):\n",
    "    return 1 / (1 + np.exp(-x))"
   ]
  },
  {
   "cell_type": "code",
   "execution_count": 11,
   "metadata": {},
   "outputs": [
    {
     "data": {
      "image/png": "[encoded data removed]",
      "text/plain": [
       "<matplotlib.figure.Figure at 0x1a13765ba8>"
      ]
     },
     "metadata": {},
     "output_type": "display_data"
    }
   ],
   "source": [
    "# Predict\n",
    "prob = Sigmoid(clf.intercept_ + clf.coef_ * X_test).ravel()\n",
    "\n",
    "# Plot the result\n",
    "plot(X_test, prob, color='red', linewidth=3)\n",
    "plot(X_test, b0 + b1 * X_test, color='blue', linewidth=1);\n",
    "scatter(x, y, color='black');\n",
    "axhline(0.5, color='0.5');\n",
    "ylim(-0.25, 1.25);\n",
    "yticks([0, 0.5, 1]);\n",
    "legend(('Logistic Regression Model', 'Linear Regression Model'), loc='lower right');"
   ]
  },
  {
   "cell_type": "markdown",
   "metadata": {},
   "source": [
    "- **Note:** For `LogisticRegression` in scikit-learn, it minimizes a cost function with some regularization\n",
    "> $ \\displaystyle \\min_{\\omega, c} \\frac{1}{2} \\omega^\\top \\omega + C \\sum_{i=1}^{n} \\log \\left[ \\exp \\left( -y_i \\left( X_i^\\top \\omega + c \\right) \\right) + 1 \\right] \\qquad L_2 \\text{-regularization} $ \n",
    ">\n",
    "> $ \\displaystyle \\min_{\\omega, c} \\lvert\\lvert \\omega \\rvert\\rvert_1 + C \\sum_{i=1}^{n} \\log \\left[ \\exp \\left( -y_i \\left( X_i^\\top \\omega + c \\right) \\right) + 1 \\right] \\qquad L_1 \\text{-regularization} $ \n",
    "\n",
    "[References](http://scikit-learn.org/stable/modules/linear_model.html#logistic-regression)"
   ]
  },
  {
   "cell_type": "markdown",
   "metadata": {},
   "source": [
    "### Logistic Regression (Multinomial)"
   ]
  },
  {
   "cell_type": "markdown",
   "metadata": {},
   "source": [
    "- General Form (K class)\n",
    "> $ \\displaystyle \\log \\left[ \\frac{\\mathbb{P}(y=1 \\ | \\ X = x) }{\\mathbb{P}(y=K \\ | \\ X = x) } \\right] = \\beta_{10} + \\beta_{11} x $\n",
    ">\n",
    "> $ \\displaystyle \\log \\left[ \\frac{\\mathbb{P}(y=2 \\ | \\ X = x) }{\\mathbb{P}(y=K \\ | \\ X = x) } \\right] = \\beta_{20} + \\beta_{21} x $\n",
    ">\n",
    "> ...\n",
    ">\n",
    "> $ \\displaystyle \\log \\left[ \\frac{\\mathbb{P}(y=K-1 \\ | \\ X = x) }{\\mathbb{P}(y=K \\ | \\ X = x) } \\right] = \\beta_{(K-1)0} + \\beta_{(K-1)1} x $\n",
    ">\n",
    "\n",
    "- Fit (maximum likelihood)\n",
    "> $ \\displaystyle l(\\beta) = \\sum_{i=1}^{n} \\log \\pi_{g_i}(x_i; \\beta) \\qquad $ where $ \\displaystyle \\qquad \\pi_{k}(x_i; \\beta) = \\mathbb{P}(y=k \\ | \\ X = x_i; \\  \\beta) $\n",
    ">\n",
    "> $ \\displaystyle \\widehat{\\beta} = \\arg \\max_{\\beta} l(\\beta) $\n",
    "\n",
    "- Predict\n",
    "> $ \\displaystyle \\mathbb{P}(y=k \\ | \\ X = x) = \\frac{\\exp (\\widehat{\\beta}_{k0} + \\widehat{\\beta}_{k1} x )}{1 + \\sum_{j=1}^{K-1} \\exp \\left( \\widehat{\\beta}_{j0} + \\widehat{\\beta}_{j1} x \\right) } \\qquad k = 1,2, \\cdots, K-1 $\n",
    ">\n",
    "> $ \\displaystyle \\mathbb{P}(y=K \\ | \\ X = x) = \\frac{1}{1 + \\sum_{j=1}^{K-1} \\exp \\left( \\widehat{\\beta}_{j0} + \\widehat{\\beta}_{j1} x \\right) } $\n",
    "\n",
    "- Example"
   ]
  },
  {
   "cell_type": "code",
   "execution_count": 12,
   "metadata": {},
   "outputs": [],
   "source": [
    "from sklearn import datasets"
   ]
  },
  {
   "cell_type": "code",
   "execution_count": 13,
   "metadata": {},
   "outputs": [
    {
     "data": {
      "text/plain": [
       "(array([0, 1, 2]), array([50, 50, 50]))"
      ]
     },
     "execution_count": 13,
     "metadata": {},
     "output_type": "execute_result"
    }
   ],
   "source": [
    "iris = datasets.load_iris()\n",
    "X = iris.data[:,:2]             # first two features\n",
    "Y = iris.target\n",
    "np.unique(Y, return_counts=True)"
   ]
  },
  {
   "cell_type": "code",
   "execution_count": 14,
   "metadata": {},
   "outputs": [
    {
     "data": {
      "text/plain": [
       "LogisticRegression(C=100000.0, class_weight=None, dual=False,\n",
       "          fit_intercept=True, intercept_scaling=1, max_iter=100,\n",
       "          multi_class='ovr', n_jobs=1, penalty='l2', random_state=None,\n",
       "          solver='liblinear', tol=0.0001, verbose=0, warm_start=False)"
      ]
     },
     "execution_count": 14,
     "metadata": {},
     "output_type": "execute_result"
    }
   ],
   "source": [
    "# Fit the model\n",
    "model1 = LogisticRegression(C=1e5)\n",
    "model1.fit(X, Y)"
   ]
  },
  {
   "cell_type": "code",
   "execution_count": 15,
   "metadata": {},
   "outputs": [],
   "source": [
    "# Generate data for decision boundary\n",
    "h = 0.02\n",
    "x_min, x_max = X[:,0].min() - 0.5, X[:,0].max() + 0.5\n",
    "y_min, y_max = X[:,1].min() - 0.5, X[:,1].max() + 0.5\n",
    "xx, yy = np.meshgrid(np.arange(x_min, x_max, h), np.arange(y_min, y_max, h))\n",
    "\n",
    "# Predict\n",
    "pred = model1.predict(np.c_[xx.ravel(), yy.ravel()])\n",
    "pred = pred.reshape(xx.shape)"
   ]
  },
  {
   "cell_type": "code",
   "execution_count": 16,
   "metadata": {},
   "outputs": [
    {
     "data": {
      "image/png": "[encoded data removed]",
      "text/plain": [
       "<matplotlib.figure.Figure at 0x612128ef0>"
      ]
     },
     "metadata": {},
     "output_type": "display_data"
    }
   ],
   "source": [
    "# Plot the result\n",
    "figure(figsize=(16, 9))\n",
    "\n",
    "pcolormesh(xx, yy, pred, cmap=plt.cm.Paired);\n",
    "scatter(X[:, 0], X[:, 1], c=Y, edgecolors='k', cmap=plt.cm.Paired);\n",
    "xlabel(iris.feature_names[0]);\n",
    "ylabel(iris.feature_names[1]);"
   ]
  },
  {
   "cell_type": "markdown",
   "metadata": {},
   "source": [
    "<br/>\n",
    "**References**\n",
    "\n",
    "- Agresti, A. (1996). An introduction to categorical data analysis (Vol. 135). Wiley.\n",
    "- Friedman, J., Hastie, T., & Tibshirani, R. (2001). The elements of statistical learning. Springer series in statistics."
   ]
  },
  {
   "cell_type": "code",
   "execution_count": null,
   "metadata": {},
   "outputs": [],
   "source": []
  },
  {
   "cell_type": "code",
   "execution_count": null,
   "metadata": {},
   "outputs": [],
   "source": []
  },
  {
   "cell_type": "code",
   "execution_count": null,
   "metadata": {},
   "outputs": [],
   "source": []
  }
 ],
 "metadata": {
  "kernelspec": {
   "display_name": "Python 3",
   "language": "python",
   "name": "python3"
  },
  "language_info": {
   "codemirror_mode": {
    "name": "ipython",
    "version": 3
   },
   "file_extension": ".py",
   "mimetype": "text/x-python",
   "name": "python",
   "nbconvert_exporter": "python",
   "pygments_lexer": "ipython3",
   "version": "3.6.3"
  },
  "toc": {
   "nav_menu": {},
   "number_sections": false,
   "sideBar": true,
   "skip_h1_title": false,
   "title_cell": "Table of Contents",
   "title_sidebar": "Contents",
   "toc_cell": false,
   "toc_position": {},
   "toc_section_display": true,
   "toc_window_display": false
  },
  "varInspector": {
   "cols": {
    "lenName": 16,
    "lenType": 16,
    "lenVar": 40
   },
   "kernels_config": {
    "python": {
     "delete_cmd_postfix": "",
     "delete_cmd_prefix": "del ",
     "library": "var_list.py",
     "varRefreshCmd": "print(var_dic_list())"
    },
    "r": {
     "delete_cmd_postfix": ") ",
     "delete_cmd_prefix": "rm(",
     "library": "var_list.r",
     "varRefreshCmd": "cat(var_dic_list()) "
    }
   },
   "types_to_exclude": [
    "module",
    "function",
    "builtin_function_or_method",
    "instance",
    "_Feature"
   ],
   "window_display": false
  }
 },
 "nbformat": 4,
 "nbformat_minor": 2
}
