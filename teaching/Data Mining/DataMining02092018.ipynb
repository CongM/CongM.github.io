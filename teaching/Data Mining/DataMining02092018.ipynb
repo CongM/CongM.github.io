{
 "cells": [
  {
   "cell_type": "markdown",
   "metadata": {},
   "source": [
    "<hr/>\n",
    "\n",
    "# Data Mining  [EN.550.636.02]\n",
    "\n",
    "02/09/2018\n",
    "\n",
    "**TA** - Cong Mu (cmu2@jhu.edu)   <br/>\n",
    "**Office Hour** - Monday 9:00am ~ 11:00am\n",
    "\n",
    "- **Python:** SciPy\n",
    "- **Model:** Linear Regression, Linear Mixed-Effect Model\n",
    "- **Q & A**\n",
    "\n",
    "<hr/>\n",
    "\n",
    "\n",
    "[Install Python](https://www.python.org/) <br/>\n",
    "[Install Anaconda](https://www.continuum.io/downloads)"
   ]
  },
  {
   "cell_type": "code",
   "execution_count": 1,
   "metadata": {},
   "outputs": [
    {
     "name": "stdout",
     "output_type": "stream",
     "text": [
      "Populating the interactive namespace from numpy and matplotlib\n"
     ]
    }
   ],
   "source": [
    "%pylab inline"
   ]
  },
  {
   "cell_type": "markdown",
   "metadata": {},
   "source": [
    "<h2><font color=\"darkblue\">Python</font></h2>\n",
    "<hr/>"
   ]
  },
  {
   "cell_type": "markdown",
   "metadata": {},
   "source": [
    "### SciPy\n",
    "[Tutorial](https://docs.scipy.org/doc/scipy/reference/tutorial/index.html)"
   ]
  },
  {
   "cell_type": "markdown",
   "metadata": {},
   "source": [
    "#### Linear Algebra"
   ]
  },
  {
   "cell_type": "code",
   "execution_count": 2,
   "metadata": {
    "collapsed": true
   },
   "outputs": [],
   "source": [
    "from scipy import linalg"
   ]
  },
  {
   "cell_type": "markdown",
   "metadata": {},
   "source": [
    "- **scipy.linalg** vs **numpy.linalg**\n",
    "\n",
    " - numpy.linalg $ \\subset $ scipy.linalg\n",
    " - scipy.linalg is faster ([BLAS](https://en.wikipedia.org/wiki/Basic_Linear_Algebra_Subprograms))"
   ]
  },
  {
   "cell_type": "markdown",
   "metadata": {},
   "source": [
    "- **Inverse**"
   ]
  },
  {
   "cell_type": "markdown",
   "metadata": {},
   "source": [
    "> Syntax:\n",
    "- scipy.linalg.inv(a, overwrite_a=False, check_finite=True)\n",
    "\n",
    "> Parameters:\t\n",
    "- **a** : array_like <br/> Square matrix to be inverted.\n",
    "- **overwrite_a** : bool, optional <br/> Discard data in a (may improve performance). Default is False.\n",
    "- **check_finite** : bool, optional <br/> Whether to check that the input matrix contains only finite numbers. Disabling may give a performance gain, but may result in problems (crashes, non-termination) if the inputs do contain infinities or NaNs.\n",
    "\n",
    "> Returns:\t\n",
    "- **ainv** : ndarray <br/> Inverse of the matrix a."
   ]
  },
  {
   "cell_type": "code",
   "execution_count": 3,
   "metadata": {},
   "outputs": [
    {
     "name": "stdout",
     "output_type": "stream",
     "text": [
      "Original Matrix: \n",
      " [[1 3 5]\n",
      " [2 5 1]\n",
      " [2 3 8]]\n",
      "Inverse: \n",
      " [[-1.48  0.36  0.88]\n",
      " [ 0.56  0.08 -0.36]\n",
      " [ 0.16 -0.12  0.04]]\n",
      "Check: \n",
      " [[  1.00000000e+00  -1.11022302e-16  -5.55111512e-17]\n",
      " [  3.05311332e-16   1.00000000e+00   1.87350135e-16]\n",
      " [  2.22044605e-16  -1.11022302e-16   1.00000000e+00]]\n"
     ]
    }
   ],
   "source": [
    "A = np.array([[1,3,5],[2,5,1],[2,3,8]])\n",
    "print('Original Matrix: \\n', A)\n",
    "A_inv = linalg.inv(A)\n",
    "print('Inverse: \\n', A_inv)\n",
    "print('Check: \\n', A.dot(linalg.inv(A)))"
   ]
  },
  {
   "cell_type": "markdown",
   "metadata": {},
   "source": [
    "- **Determinant**"
   ]
  },
  {
   "cell_type": "markdown",
   "metadata": {},
   "source": [
    "> Syntax:\n",
    "- scipy.linalg.det(a, overwrite_a=False, check_finite=True)\n",
    "\n",
    "> Parameters:\t\n",
    "- **a** : (M, M) array_like <br/> Square matrix.\n",
    "- **overwrite_a** : bool, optional <br/> Allow overwriting data in a (may enhance performance).\n",
    "- **check_finite** : bool, optional <br/> Whether to check that the input matrix contains only finite numbers. Disabling may give a performance gain, but may result in problems (crashes, non-termination) if the inputs do contain infinities or NaNs.\n",
    "\n",
    "> Returns:\t\n",
    "- **det** : float or complex  <br/> Determinant of a."
   ]
  },
  {
   "cell_type": "code",
   "execution_count": 4,
   "metadata": {},
   "outputs": [
    {
     "name": "stdout",
     "output_type": "stream",
     "text": [
      "Original Matrix: \n",
      " [[1 2]\n",
      " [3 4]]\n",
      "Determinant:  -2.0\n"
     ]
    }
   ],
   "source": [
    "A = np.array([[1,2],[3,4]])\n",
    "print('Original Matrix: \\n', A)\n",
    "print('Determinant: ', linalg.det(A))"
   ]
  },
  {
   "cell_type": "markdown",
   "metadata": {},
   "source": [
    "- **Decompositions**"
   ]
  },
  {
   "cell_type": "markdown",
   "metadata": {},
   "source": [
    "> Syntax:\n",
    "- scipy.linalg.eig(a, b=None, left=False, right=True, overwrite_a=False, overwrite_b=False, check_finite=True, homogeneous_eigvals=False)\n",
    "\n",
    "> Parameters:\t\n",
    "- **a** : (M, M) array_like <br/> A complex or real matrix whose eigenvalues and eigenvectors will be computed.\n",
    "\n",
    "> Returns:\t\n",
    "- **w** : (M,) or (2, M) double or complex ndarray  <br/> The eigenvalues, each repeated according to its multiplicity.\n",
    "- **vr** : (M, M) double or complex ndarray  <br/> The normalized right eigenvector"
   ]
  },
  {
   "cell_type": "code",
   "execution_count": 5,
   "metadata": {},
   "outputs": [
    {
     "name": "stdout",
     "output_type": "stream",
     "text": [
      "Original Matrix: \n",
      " [[1 2]\n",
      " [3 4]]\n",
      "Eigenvalues:  [-0.37228132+0.j  5.37228132+0.j]\n",
      "Eigenvector: \n",
      " [[-0.82456484 -0.41597356]\n",
      " [ 0.56576746 -0.90937671]]\n"
     ]
    }
   ],
   "source": [
    "A = np.array([[1, 2], [3, 4]])\n",
    "print('Original Matrix: \\n', A)\n",
    "eigenvalues, eigenvector = linalg.eig(A)\n",
    "print('Eigenvalues: ', eigenvalues)\n",
    "print('Eigenvector: \\n', eigenvector)"
   ]
  },
  {
   "cell_type": "markdown",
   "metadata": {},
   "source": [
    "#### Statistics"
   ]
  },
  {
   "cell_type": "code",
   "execution_count": 6,
   "metadata": {
    "collapsed": true
   },
   "outputs": [],
   "source": [
    "from scipy import stats"
   ]
  },
  {
   "cell_type": "markdown",
   "metadata": {},
   "source": [
    "- **Random Variables**\n",
    "\n",
    "> The main public methods for continuous RVs are:\n",
    "- rvs: Random Variates\n",
    "- pdf: Probability Density Function\n",
    "- cdf: Cumulative Distribution Function\n",
    "- sf: Survival Function (1-CDF)\n",
    "- ppf: Percent Point Function (Inverse of CDF)\n",
    "- isf: Inverse Survival Function (Inverse of SF)\n",
    "- stats: Return mean, variance, (Fisher’s) skew, or (Fisher’s) kurtosis\n",
    "- moment: non-central moments of the distribution"
   ]
  },
  {
   "cell_type": "code",
   "execution_count": 7,
   "metadata": {
    "collapsed": true
   },
   "outputs": [],
   "source": [
    "from scipy.stats import norm"
   ]
  },
  {
   "cell_type": "code",
   "execution_count": 8,
   "metadata": {},
   "outputs": [
    {
     "data": {
      "text/plain": [
       "array([-0.2767676 ,  0.581851  ,  2.14839926, -1.279487  ,  0.50227689])"
      ]
     },
     "execution_count": 8,
     "metadata": {},
     "output_type": "execute_result"
    }
   ],
   "source": [
    "norm.rvs(loc=0, scale=1, size=5, random_state=2018)  # scale is standard deviation  "
   ]
  },
  {
   "cell_type": "code",
   "execution_count": 9,
   "metadata": {},
   "outputs": [
    {
     "data": {
      "text/plain": [
       "array([-0.2767676 ,  0.581851  ,  2.14839926, -1.279487  ,  0.50227689])"
      ]
     },
     "execution_count": 9,
     "metadata": {},
     "output_type": "execute_result"
    }
   ],
   "source": [
    "norm.rvs(loc=0, scale=1, size=5, random_state=2018)"
   ]
  },
  {
   "cell_type": "code",
   "execution_count": 11,
   "metadata": {},
   "outputs": [
    {
     "data": {
      "text/plain": [
       "array([[-0.2767676 ,  0.581851  ],\n",
       "       [ 2.14839926, -1.279487  ],\n",
       "       [ 0.50227689,  0.8560293 ],\n",
       "       [-0.14279008,  0.11007867],\n",
       "       [-0.68806479,  0.43356408],\n",
       "       [ 0.510221  , -0.16513097],\n",
       "       [-1.35177905,  0.54663075],\n",
       "       [ 1.23065512,  1.0764461 ],\n",
       "       [-1.21062488, -0.30667657]])"
      ]
     },
     "execution_count": 11,
     "metadata": {},
     "output_type": "execute_result"
    }
   ],
   "source": [
    "norm.rvs(loc=0, scale=1, size=(9,2), random_state=2018)"
   ]
  },
  {
   "cell_type": "code",
   "execution_count": 12,
   "metadata": {},
   "outputs": [
    {
     "data": {
      "text/plain": [
       "array([ 0.39894228,  0.05399097])"
      ]
     },
     "execution_count": 12,
     "metadata": {},
     "output_type": "execute_result"
    }
   ],
   "source": [
    "norm.pdf([0, 2], loc=0, scale=1)"
   ]
  },
  {
   "cell_type": "code",
   "execution_count": 13,
   "metadata": {},
   "outputs": [
    {
     "data": {
      "text/plain": [
       "array([ 0.5       ,  0.84134475])"
      ]
     },
     "execution_count": 13,
     "metadata": {},
     "output_type": "execute_result"
    }
   ],
   "source": [
    "norm.cdf([0, 1], loc=0, scale=1)"
   ]
  },
  {
   "cell_type": "markdown",
   "metadata": {},
   "source": [
    "<h2><font color=\"darkblue\">Model</font></h2>\n",
    "<hr/>"
   ]
  },
  {
   "cell_type": "markdown",
   "metadata": {},
   "source": [
    "### Linear Regression\n",
    "[Tutorial](http://scikit-learn.org/stable/modules/linear_model.html)"
   ]
  },
  {
   "cell_type": "markdown",
   "metadata": {},
   "source": [
    "> $\\displaystyle Y = X \\beta + \\epsilon $\n",
    ">\n",
    "> $\\displaystyle \\hat\\beta = (X^T X)^{-1} X^T Y = X^+ Y$"
   ]
  },
  {
   "cell_type": "code",
   "execution_count": 14,
   "metadata": {
    "collapsed": true
   },
   "outputs": [],
   "source": [
    "from sklearn.preprocessing import PolynomialFeatures as poly"
   ]
  },
  {
   "cell_type": "markdown",
   "metadata": {},
   "source": [
    "[PolynomialFeatures](http://scikit-learn.org/stable/modules/generated/sklearn.preprocessing.PolynomialFeatures.html)"
   ]
  },
  {
   "cell_type": "code",
   "execution_count": 15,
   "metadata": {},
   "outputs": [
    {
     "data": {
      "text/plain": [
       "array([0, 1, 2, 3, 4, 5, 6, 7, 8, 9])"
      ]
     },
     "execution_count": 15,
     "metadata": {},
     "output_type": "execute_result"
    }
   ],
   "source": [
    "Y = np.arange(10)\n",
    "Y"
   ]
  },
  {
   "cell_type": "code",
   "execution_count": 16,
   "metadata": {},
   "outputs": [
    {
     "data": {
      "text/plain": [
       "array([[ 0,  1],\n",
       "       [ 2,  3],\n",
       "       [ 4,  5],\n",
       "       [ 6,  7],\n",
       "       [ 8,  9],\n",
       "       [10, 11],\n",
       "       [12, 13],\n",
       "       [14, 15],\n",
       "       [16, 17],\n",
       "       [18, 19]])"
      ]
     },
     "execution_count": 16,
     "metadata": {},
     "output_type": "execute_result"
    }
   ],
   "source": [
    "X = np.arange(20).reshape(10, 2)\n",
    "X"
   ]
  },
  {
   "cell_type": "code",
   "execution_count": 17,
   "metadata": {},
   "outputs": [
    {
     "data": {
      "text/plain": [
       "array([[   1.,    0.,    1.,    0.,    0.,    1.],\n",
       "       [   1.,    2.,    3.,    4.,    6.,    9.],\n",
       "       [   1.,    4.,    5.,   16.,   20.,   25.],\n",
       "       [   1.,    6.,    7.,   36.,   42.,   49.],\n",
       "       [   1.,    8.,    9.,   64.,   72.,   81.],\n",
       "       [   1.,   10.,   11.,  100.,  110.,  121.],\n",
       "       [   1.,   12.,   13.,  144.,  156.,  169.],\n",
       "       [   1.,   14.,   15.,  196.,  210.,  225.],\n",
       "       [   1.,   16.,   17.,  256.,  272.,  289.],\n",
       "       [   1.,   18.,   19.,  324.,  342.,  361.]])"
      ]
     },
     "execution_count": 17,
     "metadata": {},
     "output_type": "execute_result"
    }
   ],
   "source": [
    "poly2 = poly(2)\n",
    "X2 = poly2.fit_transform(X)\n",
    "X2"
   ]
  },
  {
   "cell_type": "code",
   "execution_count": 18,
   "metadata": {},
   "outputs": [
    {
     "data": {
      "text/plain": [
       "array([[   1.,    0.,    1.,    0.],\n",
       "       [   1.,    2.,    3.,    6.],\n",
       "       [   1.,    4.,    5.,   20.],\n",
       "       [   1.,    6.,    7.,   42.],\n",
       "       [   1.,    8.,    9.,   72.],\n",
       "       [   1.,   10.,   11.,  110.],\n",
       "       [   1.,   12.,   13.,  156.],\n",
       "       [   1.,   14.,   15.,  210.],\n",
       "       [   1.,   16.,   17.,  272.],\n",
       "       [   1.,   18.,   19.,  342.]])"
      ]
     },
     "execution_count": 18,
     "metadata": {},
     "output_type": "execute_result"
    }
   ],
   "source": [
    "poly2 = poly(2, interaction_only=True)\n",
    "X2 = poly2.fit_transform(X)\n",
    "X2"
   ]
  },
  {
   "cell_type": "code",
   "execution_count": 19,
   "metadata": {
    "collapsed": true
   },
   "outputs": [],
   "source": [
    "from sklearn.model_selection import train_test_split"
   ]
  },
  {
   "cell_type": "markdown",
   "metadata": {},
   "source": [
    "[train_test_split](http://scikit-learn.org/stable/modules/generated/sklearn.model_selection.train_test_split.html)"
   ]
  },
  {
   "cell_type": "code",
   "execution_count": 20,
   "metadata": {},
   "outputs": [
    {
     "name": "stdout",
     "output_type": "stream",
     "text": [
      "X_train: \n",
      " [[16 17]\n",
      " [18 19]\n",
      " [ 8  9]\n",
      " [10 11]\n",
      " [ 2  3]\n",
      " [ 4  5]\n",
      " [12 13]]\n",
      "X_test: \n",
      " [[ 0  1]\n",
      " [ 6  7]\n",
      " [14 15]]\n",
      "Y_train: \n",
      " [8 9 4 5 1 2 6]\n",
      "Y_test: \n",
      " [0 3 7]\n"
     ]
    }
   ],
   "source": [
    "X_train, X_test, Y_train, Y_test = train_test_split(X, Y, test_size=0.25, random_state=2018)\n",
    "print('X_train: \\n', X_train)\n",
    "print('X_test: \\n', X_test)\n",
    "print('Y_train: \\n', Y_train)\n",
    "print('Y_test: \\n', Y_test)"
   ]
  },
  {
   "cell_type": "code",
   "execution_count": 21,
   "metadata": {
    "collapsed": true
   },
   "outputs": [],
   "source": [
    "from sklearn import linear_model"
   ]
  },
  {
   "cell_type": "markdown",
   "metadata": {},
   "source": [
    "[LinearRegression](http://scikit-learn.org/stable/modules/generated/sklearn.linear_model.LinearRegression.html)"
   ]
  },
  {
   "cell_type": "code",
   "execution_count": 22,
   "metadata": {
    "collapsed": true
   },
   "outputs": [],
   "source": [
    "lm = linear_model.LinearRegression()\n",
    "lm.fit(X_train, Y_train);"
   ]
  },
  {
   "cell_type": "code",
   "execution_count": 23,
   "metadata": {},
   "outputs": [
    {
     "data": {
      "text/plain": [
       "array([ 0.25,  0.25])"
      ]
     },
     "execution_count": 23,
     "metadata": {},
     "output_type": "execute_result"
    }
   ],
   "source": [
    "lm.coef_"
   ]
  },
  {
   "cell_type": "code",
   "execution_count": 24,
   "metadata": {},
   "outputs": [
    {
     "data": {
      "text/plain": [
       "-0.25000000000000178"
      ]
     },
     "execution_count": 24,
     "metadata": {},
     "output_type": "execute_result"
    }
   ],
   "source": [
    "lm.intercept_"
   ]
  },
  {
   "cell_type": "code",
   "execution_count": 25,
   "metadata": {},
   "outputs": [
    {
     "data": {
      "text/plain": [
       "array([ -1.66533454e-15,   3.00000000e+00,   7.00000000e+00])"
      ]
     },
     "execution_count": 25,
     "metadata": {},
     "output_type": "execute_result"
    }
   ],
   "source": [
    "lm.predict(X_test)"
   ]
  },
  {
   "cell_type": "code",
   "execution_count": 26,
   "metadata": {},
   "outputs": [
    {
     "data": {
      "text/plain": [
       "1.0"
      ]
     },
     "execution_count": 26,
     "metadata": {},
     "output_type": "execute_result"
    }
   ],
   "source": [
    "lm.score(X_test, Y_test)  # R^2 must fit first"
   ]
  },
  {
   "cell_type": "markdown",
   "metadata": {},
   "source": [
    "### Linear Mixed-Effect Model\n",
    "[Tutorial](http://www.statsmodels.org/dev/mixed_linear.html)"
   ]
  },
  {
   "cell_type": "code",
   "execution_count": 27,
   "metadata": {
    "collapsed": true
   },
   "outputs": [],
   "source": [
    "import pandas as pd"
   ]
  },
  {
   "cell_type": "markdown",
   "metadata": {},
   "source": [
    "- **Longitudinal Data**"
   ]
  },
  {
   "cell_type": "code",
   "execution_count": 28,
   "metadata": {},
   "outputs": [
    {
     "data": {
      "text/html": [
       "<div>\n",
       "<style>\n",
       "    .dataframe thead tr:only-child th {\n",
       "        text-align: right;\n",
       "    }\n",
       "\n",
       "    .dataframe thead th {\n",
       "        text-align: left;\n",
       "    }\n",
       "\n",
       "    .dataframe tbody tr th {\n",
       "        vertical-align: top;\n",
       "    }\n",
       "</style>\n",
       "<table border=\"1\" class=\"dataframe\">\n",
       "  <thead>\n",
       "    <tr style=\"text-align: right;\">\n",
       "      <th></th>\n",
       "      <th>id</th>\n",
       "      <th>week</th>\n",
       "      <th>x1</th>\n",
       "      <th>x2</th>\n",
       "      <th>y</th>\n",
       "    </tr>\n",
       "  </thead>\n",
       "  <tbody>\n",
       "    <tr>\n",
       "      <th>0</th>\n",
       "      <td>1</td>\n",
       "      <td>0</td>\n",
       "      <td>1.921812</td>\n",
       "      <td>-0.973643</td>\n",
       "      <td>5</td>\n",
       "    </tr>\n",
       "    <tr>\n",
       "      <th>1</th>\n",
       "      <td>1</td>\n",
       "      <td>1</td>\n",
       "      <td>-0.528911</td>\n",
       "      <td>0.419067</td>\n",
       "      <td>19</td>\n",
       "    </tr>\n",
       "    <tr>\n",
       "      <th>2</th>\n",
       "      <td>1</td>\n",
       "      <td>2</td>\n",
       "      <td>-1.131307</td>\n",
       "      <td>0.205320</td>\n",
       "      <td>19</td>\n",
       "    </tr>\n",
       "    <tr>\n",
       "      <th>3</th>\n",
       "      <td>2</td>\n",
       "      <td>0</td>\n",
       "      <td>1.070019</td>\n",
       "      <td>1.045759</td>\n",
       "      <td>10</td>\n",
       "    </tr>\n",
       "    <tr>\n",
       "      <th>4</th>\n",
       "      <td>2</td>\n",
       "      <td>1</td>\n",
       "      <td>-1.109098</td>\n",
       "      <td>-0.324795</td>\n",
       "      <td>7</td>\n",
       "    </tr>\n",
       "    <tr>\n",
       "      <th>5</th>\n",
       "      <td>3</td>\n",
       "      <td>0</td>\n",
       "      <td>0.974150</td>\n",
       "      <td>-0.488276</td>\n",
       "      <td>6</td>\n",
       "    </tr>\n",
       "    <tr>\n",
       "      <th>6</th>\n",
       "      <td>3</td>\n",
       "      <td>1</td>\n",
       "      <td>1.026907</td>\n",
       "      <td>0.171584</td>\n",
       "      <td>8</td>\n",
       "    </tr>\n",
       "    <tr>\n",
       "      <th>7</th>\n",
       "      <td>3</td>\n",
       "      <td>2</td>\n",
       "      <td>-0.504214</td>\n",
       "      <td>0.555015</td>\n",
       "      <td>12</td>\n",
       "    </tr>\n",
       "    <tr>\n",
       "      <th>8</th>\n",
       "      <td>3</td>\n",
       "      <td>3</td>\n",
       "      <td>-0.389387</td>\n",
       "      <td>2.985775</td>\n",
       "      <td>5</td>\n",
       "    </tr>\n",
       "  </tbody>\n",
       "</table>\n",
       "</div>"
      ],
      "text/plain": [
       "   id  week        x1        x2   y\n",
       "0   1     0  1.921812 -0.973643   5\n",
       "1   1     1 -0.528911  0.419067  19\n",
       "2   1     2 -1.131307  0.205320  19\n",
       "3   2     0  1.070019  1.045759  10\n",
       "4   2     1 -1.109098 -0.324795   7\n",
       "5   3     0  0.974150 -0.488276   6\n",
       "6   3     1  1.026907  0.171584   8\n",
       "7   3     2 -0.504214  0.555015  12\n",
       "8   3     3 -0.389387  2.985775   5"
      ]
     },
     "execution_count": 28,
     "metadata": {},
     "output_type": "execute_result"
    }
   ],
   "source": [
    "df = pd.DataFrame({'id': [1,1,1,2,2,3,3,3,3], \n",
    "                   'week': [0,1,2,0,1,0,1,2,3], \n",
    "                   'y': np.random.randint(1,20,9),\n",
    "                   'x1': np.random.randn(9),\n",
    "                   'x2': np.random.randn(9)})\n",
    "df"
   ]
  },
  {
   "cell_type": "markdown",
   "metadata": {},
   "source": [
    "- **Linear Model**\n",
    "> $\\displaystyle y = \\beta_0 + \\beta_1 x_1 + \\epsilon $\n",
    ">\n",
    "\n",
    "- **Linear Mixed-Effect Model**\n",
    "> $\\displaystyle y_{ij} = \\beta_{0i} + \\beta_{1i} x_{1ij} + \\epsilon_{ij} $\n",
    ">\n",
    "> $\\displaystyle \\beta_{0i} = \\gamma_0 + \\gamma_{0i} $, $\\quad \\displaystyle \\beta_{1i} = \\gamma_1 + \\gamma_{1i} $\n",
    ">\n",
    "> $\\displaystyle y_{ij} = \\gamma_0 + \\gamma_{0i} + (\\gamma_1 + \\gamma_{1i}) x_{1ij} + \\epsilon_{ij} = (\\gamma_0 + \\gamma_1 x_{1ij}) + (\\gamma_{0i} + \\gamma_{1i} x_{1ij} + \\epsilon_{ij}) $"
   ]
  },
  {
   "cell_type": "code",
   "execution_count": 30,
   "metadata": {},
   "outputs": [],
   "source": [
    "import statsmodels.api as sm\n",
    "import statsmodels.formula.api as smf"
   ]
  },
  {
   "cell_type": "code",
   "execution_count": 31,
   "metadata": {},
   "outputs": [
    {
     "data": {
      "text/html": [
       "<div>\n",
       "<style>\n",
       "    .dataframe thead tr:only-child th {\n",
       "        text-align: right;\n",
       "    }\n",
       "\n",
       "    .dataframe thead th {\n",
       "        text-align: left;\n",
       "    }\n",
       "\n",
       "    .dataframe tbody tr th {\n",
       "        vertical-align: top;\n",
       "    }\n",
       "</style>\n",
       "<table border=\"1\" class=\"dataframe\">\n",
       "  <thead>\n",
       "    <tr style=\"text-align: right;\">\n",
       "      <th></th>\n",
       "      <th>Weight</th>\n",
       "      <th>Feed</th>\n",
       "      <th>Time</th>\n",
       "      <th>Pig</th>\n",
       "      <th>Evit</th>\n",
       "      <th>Cu</th>\n",
       "      <th>Litter</th>\n",
       "    </tr>\n",
       "  </thead>\n",
       "  <tbody>\n",
       "    <tr>\n",
       "      <th>0</th>\n",
       "      <td>26.50000</td>\n",
       "      <td>NaN</td>\n",
       "      <td>1</td>\n",
       "      <td>4601</td>\n",
       "      <td>1</td>\n",
       "      <td>1</td>\n",
       "      <td>1</td>\n",
       "    </tr>\n",
       "    <tr>\n",
       "      <th>1</th>\n",
       "      <td>27.59999</td>\n",
       "      <td>5.200005</td>\n",
       "      <td>2</td>\n",
       "      <td>4601</td>\n",
       "      <td>1</td>\n",
       "      <td>1</td>\n",
       "      <td>1</td>\n",
       "    </tr>\n",
       "    <tr>\n",
       "      <th>2</th>\n",
       "      <td>36.50000</td>\n",
       "      <td>17.600000</td>\n",
       "      <td>3</td>\n",
       "      <td>4601</td>\n",
       "      <td>1</td>\n",
       "      <td>1</td>\n",
       "      <td>1</td>\n",
       "    </tr>\n",
       "    <tr>\n",
       "      <th>3</th>\n",
       "      <td>40.29999</td>\n",
       "      <td>28.500000</td>\n",
       "      <td>4</td>\n",
       "      <td>4601</td>\n",
       "      <td>1</td>\n",
       "      <td>1</td>\n",
       "      <td>1</td>\n",
       "    </tr>\n",
       "    <tr>\n",
       "      <th>4</th>\n",
       "      <td>49.09998</td>\n",
       "      <td>45.200001</td>\n",
       "      <td>5</td>\n",
       "      <td>4601</td>\n",
       "      <td>1</td>\n",
       "      <td>1</td>\n",
       "      <td>1</td>\n",
       "    </tr>\n",
       "    <tr>\n",
       "      <th>5</th>\n",
       "      <td>55.39999</td>\n",
       "      <td>56.900002</td>\n",
       "      <td>6</td>\n",
       "      <td>4601</td>\n",
       "      <td>1</td>\n",
       "      <td>1</td>\n",
       "      <td>1</td>\n",
       "    </tr>\n",
       "    <tr>\n",
       "      <th>6</th>\n",
       "      <td>59.59998</td>\n",
       "      <td>71.700005</td>\n",
       "      <td>7</td>\n",
       "      <td>4601</td>\n",
       "      <td>1</td>\n",
       "      <td>1</td>\n",
       "      <td>1</td>\n",
       "    </tr>\n",
       "    <tr>\n",
       "      <th>7</th>\n",
       "      <td>67.00000</td>\n",
       "      <td>86.800001</td>\n",
       "      <td>8</td>\n",
       "      <td>4601</td>\n",
       "      <td>1</td>\n",
       "      <td>1</td>\n",
       "      <td>1</td>\n",
       "    </tr>\n",
       "    <tr>\n",
       "      <th>8</th>\n",
       "      <td>76.59998</td>\n",
       "      <td>104.900002</td>\n",
       "      <td>9</td>\n",
       "      <td>4601</td>\n",
       "      <td>1</td>\n",
       "      <td>1</td>\n",
       "      <td>1</td>\n",
       "    </tr>\n",
       "    <tr>\n",
       "      <th>9</th>\n",
       "      <td>86.50000</td>\n",
       "      <td>123.000000</td>\n",
       "      <td>10</td>\n",
       "      <td>4601</td>\n",
       "      <td>1</td>\n",
       "      <td>1</td>\n",
       "      <td>1</td>\n",
       "    </tr>\n",
       "    <tr>\n",
       "      <th>10</th>\n",
       "      <td>91.59998</td>\n",
       "      <td>140.900002</td>\n",
       "      <td>11</td>\n",
       "      <td>4601</td>\n",
       "      <td>1</td>\n",
       "      <td>1</td>\n",
       "      <td>1</td>\n",
       "    </tr>\n",
       "    <tr>\n",
       "      <th>11</th>\n",
       "      <td>98.59998</td>\n",
       "      <td>160.000000</td>\n",
       "      <td>12</td>\n",
       "      <td>4601</td>\n",
       "      <td>1</td>\n",
       "      <td>1</td>\n",
       "      <td>1</td>\n",
       "    </tr>\n",
       "    <tr>\n",
       "      <th>12</th>\n",
       "      <td>27.00000</td>\n",
       "      <td>NaN</td>\n",
       "      <td>1</td>\n",
       "      <td>4643</td>\n",
       "      <td>1</td>\n",
       "      <td>1</td>\n",
       "      <td>2</td>\n",
       "    </tr>\n",
       "    <tr>\n",
       "      <th>13</th>\n",
       "      <td>31.79999</td>\n",
       "      <td>6.400002</td>\n",
       "      <td>2</td>\n",
       "      <td>4643</td>\n",
       "      <td>1</td>\n",
       "      <td>1</td>\n",
       "      <td>2</td>\n",
       "    </tr>\n",
       "    <tr>\n",
       "      <th>14</th>\n",
       "      <td>39.00000</td>\n",
       "      <td>21.500000</td>\n",
       "      <td>3</td>\n",
       "      <td>4643</td>\n",
       "      <td>1</td>\n",
       "      <td>1</td>\n",
       "      <td>2</td>\n",
       "    </tr>\n",
       "    <tr>\n",
       "      <th>15</th>\n",
       "      <td>44.79999</td>\n",
       "      <td>33.900002</td>\n",
       "      <td>4</td>\n",
       "      <td>4643</td>\n",
       "      <td>1</td>\n",
       "      <td>1</td>\n",
       "      <td>2</td>\n",
       "    </tr>\n",
       "    <tr>\n",
       "      <th>16</th>\n",
       "      <td>50.89999</td>\n",
       "      <td>44.900002</td>\n",
       "      <td>5</td>\n",
       "      <td>4643</td>\n",
       "      <td>1</td>\n",
       "      <td>1</td>\n",
       "      <td>2</td>\n",
       "    </tr>\n",
       "    <tr>\n",
       "      <th>17</th>\n",
       "      <td>57.39999</td>\n",
       "      <td>58.800000</td>\n",
       "      <td>6</td>\n",
       "      <td>4643</td>\n",
       "      <td>1</td>\n",
       "      <td>1</td>\n",
       "      <td>2</td>\n",
       "    </tr>\n",
       "    <tr>\n",
       "      <th>18</th>\n",
       "      <td>62.50000</td>\n",
       "      <td>73.700001</td>\n",
       "      <td>7</td>\n",
       "      <td>4643</td>\n",
       "      <td>1</td>\n",
       "      <td>1</td>\n",
       "      <td>2</td>\n",
       "    </tr>\n",
       "    <tr>\n",
       "      <th>19</th>\n",
       "      <td>71.69995</td>\n",
       "      <td>92.800003</td>\n",
       "      <td>8</td>\n",
       "      <td>4643</td>\n",
       "      <td>1</td>\n",
       "      <td>1</td>\n",
       "      <td>2</td>\n",
       "    </tr>\n",
       "  </tbody>\n",
       "</table>\n",
       "</div>"
      ],
      "text/plain": [
       "      Weight        Feed  Time   Pig  Evit  Cu  Litter\n",
       "0   26.50000         NaN     1  4601     1   1       1\n",
       "1   27.59999    5.200005     2  4601     1   1       1\n",
       "2   36.50000   17.600000     3  4601     1   1       1\n",
       "3   40.29999   28.500000     4  4601     1   1       1\n",
       "4   49.09998   45.200001     5  4601     1   1       1\n",
       "5   55.39999   56.900002     6  4601     1   1       1\n",
       "6   59.59998   71.700005     7  4601     1   1       1\n",
       "7   67.00000   86.800001     8  4601     1   1       1\n",
       "8   76.59998  104.900002     9  4601     1   1       1\n",
       "9   86.50000  123.000000    10  4601     1   1       1\n",
       "10  91.59998  140.900002    11  4601     1   1       1\n",
       "11  98.59998  160.000000    12  4601     1   1       1\n",
       "12  27.00000         NaN     1  4643     1   1       2\n",
       "13  31.79999    6.400002     2  4643     1   1       2\n",
       "14  39.00000   21.500000     3  4643     1   1       2\n",
       "15  44.79999   33.900002     4  4643     1   1       2\n",
       "16  50.89999   44.900002     5  4643     1   1       2\n",
       "17  57.39999   58.800000     6  4643     1   1       2\n",
       "18  62.50000   73.700001     7  4643     1   1       2\n",
       "19  71.69995   92.800003     8  4643     1   1       2"
      ]
     },
     "execution_count": 31,
     "metadata": {},
     "output_type": "execute_result"
    }
   ],
   "source": [
    "data = sm.datasets.get_rdataset(\"dietox\", \"geepack\").data\n",
    "data.head(20)"
   ]
  },
  {
   "cell_type": "code",
   "execution_count": 32,
   "metadata": {},
   "outputs": [
    {
     "name": "stdout",
     "output_type": "stream",
     "text": [
      "         Mixed Linear Model Regression Results\n",
      "========================================================\n",
      "Model:            MixedLM Dependent Variable: Weight    \n",
      "No. Observations: 861     Method:             REML      \n",
      "No. Groups:       72      Scale:              11.3669   \n",
      "Min. group size:  11      Likelihood:         -2404.7753\n",
      "Max. group size:  12      Converged:          Yes       \n",
      "Mean group size:  12.0                                  \n",
      "--------------------------------------------------------\n",
      "             Coef.  Std.Err.    z    P>|z| [0.025 0.975]\n",
      "--------------------------------------------------------\n",
      "Intercept    15.724    0.788  19.952 0.000 14.179 17.268\n",
      "Time          6.943    0.033 207.939 0.000  6.877  7.008\n",
      "groups RE    40.394    2.149                            \n",
      "========================================================\n",
      "\n"
     ]
    }
   ],
   "source": [
    "md = smf.mixedlm('Weight ~ Time', data, groups=data['Pig']) # re_formula='~ Time'\n",
    "mdf = md.fit()\n",
    "print(mdf.summary())"
   ]
  },
  {
   "cell_type": "markdown",
   "metadata": {},
   "source": [
    "> $\\displaystyle Weight_{ij} = (\\gamma_0 + \\gamma_1 Time_{ij}) + (\\gamma_{0i} + \\epsilon_{ij}) $"
   ]
  },
  {
   "cell_type": "code",
   "execution_count": 33,
   "metadata": {},
   "outputs": [
    {
     "data": {
      "text/plain": [
       "Intercept    15.723523\n",
       "Time          6.942505\n",
       "groups RE     3.553634\n",
       "dtype: float64"
      ]
     },
     "execution_count": 33,
     "metadata": {},
     "output_type": "execute_result"
    }
   ],
   "source": [
    "mdf.params"
   ]
  },
  {
   "cell_type": "code",
   "execution_count": 34,
   "metadata": {},
   "outputs": [
    {
     "data": {
      "text/plain": [
       "{4601: groups   -1.213037\n",
       " dtype: float64, 4602: groups    3.086142\n",
       " dtype: float64, 4603: groups    3.981795\n",
       " dtype: float64, 4605: groups    6.790923\n",
       " dtype: float64, 4641: groups    9.152234\n",
       " dtype: float64, 4643: groups    0.887694\n",
       " dtype: float64, 4645: groups    4.421497\n",
       " dtype: float64, 4756: groups   -11.456167\n",
       " dtype: float64, 4757: groups    0.830694\n",
       " dtype: float64, 4759: groups   -3.085792\n",
       " dtype: float64, 4760: groups   -19.810266\n",
       " dtype: float64, 4813: groups    2.49989\n",
       " dtype: float64, 4814: groups   -0.366236\n",
       " dtype: float64, 4815: groups   -0.700069\n",
       " dtype: float64, 4817: groups    2.361469\n",
       " dtype: float64, 4854: groups   -1.188612\n",
       " dtype: float64, 4856: groups    6.432667\n",
       " dtype: float64, 4857: groups    1.929924\n",
       " dtype: float64, 4858: groups    2.337039\n",
       " dtype: float64, 5389: groups   -4.714274\n",
       " dtype: float64, 5392: groups   -10.796642\n",
       " dtype: float64, 5497: groups   -4.640988\n",
       " dtype: float64, 5500: groups   -14.004736\n",
       " dtype: float64, 5501: groups    6.074404\n",
       " dtype: float64, 5502: groups    5.781268\n",
       " dtype: float64, 5524: groups   -6.237185\n",
       " dtype: float64, 5527: groups   -0.75915\n",
       " dtype: float64, 5528: groups   -0.759144\n",
       " dtype: float64, 5578: groups    7.124771\n",
       " dtype: float64, 5581: groups    2.369618\n",
       " dtype: float64, 5582: groups    2.027629\n",
       " dtype: float64, 5850: groups   -6.033339\n",
       " dtype: float64, 5851: groups   -2.727526\n",
       " dtype: float64, 5852: groups    3.379267\n",
       " dtype: float64, 5862: groups   -7.026714\n",
       " dtype: float64, 5865: groups   -4.681695\n",
       " dtype: float64, 5866: groups   -6.440451\n",
       " dtype: float64, 6055: groups    1.221529\n",
       " dtype: float64, 6056: groups    13.093144\n",
       " dtype: float64, 6057: groups    4.730906\n",
       " dtype: float64, 6058: groups    3.892241\n",
       " dtype: float64, 6207: groups    2.125334\n",
       " dtype: float64, 6208: groups    2.833725\n",
       " dtype: float64, 6211: groups    3.981801\n",
       " dtype: float64, 6284: groups   -2.19827\n",
       " dtype: float64, 6287: groups   -2.955515\n",
       " dtype: float64, 6288: groups   -0.830349\n",
       " dtype: float64, 6430: groups    11.358813\n",
       " dtype: float64, 6432: groups   -0.936202\n",
       " dtype: float64, 6433: groups    8.16699\n",
       " dtype: float64, 6909: groups    0.024601\n",
       " dtype: float64, 6910: groups    0.415434\n",
       " dtype: float64, 6912: groups    1.050542\n",
       " dtype: float64, 8049: groups   -3.582482\n",
       " dtype: float64, 8050: groups    7.092201\n",
       " dtype: float64, 8051: groups    7.523745\n",
       " dtype: float64, 8053: groups    0.537572\n",
       " dtype: float64, 8139: groups   -4.274582\n",
       " dtype: float64, 8141: groups   -5.715792\n",
       " dtype: float64, 8142: groups   -0.577928\n",
       " dtype: float64, 8144: groups   -15.258666\n",
       " dtype: float64, 8191: groups    2.882579\n",
       " dtype: float64, 8192: groups    13.687542\n",
       " dtype: float64, 8193: groups   -0.064969\n",
       " dtype: float64, 8195: groups   -9.697415\n",
       " dtype: float64, 8269: groups   -12.53911\n",
       " dtype: float64, 8270: groups    1.13197\n",
       " dtype: float64, 8271: groups    0.301448\n",
       " dtype: float64, 8273: groups    4.999604\n",
       " dtype: float64, 8437: groups    0.545722\n",
       " dtype: float64, 8439: groups    1.327384\n",
       " dtype: float64, 8442: groups    0.879551\n",
       " dtype: float64}"
      ]
     },
     "execution_count": 34,
     "metadata": {},
     "output_type": "execute_result"
    }
   ],
   "source": [
    "mdf.random_effects"
   ]
  },
  {
   "cell_type": "code",
   "execution_count": null,
   "metadata": {
    "collapsed": true
   },
   "outputs": [],
   "source": []
  }
 ],
 "metadata": {
  "kernelspec": {
   "display_name": "Python 3",
   "language": "python",
   "name": "python3"
  },
  "language_info": {
   "codemirror_mode": {
    "name": "ipython",
    "version": 3
   },
   "file_extension": ".py",
   "mimetype": "text/x-python",
   "name": "python",
   "nbconvert_exporter": "python",
   "pygments_lexer": "ipython3",
   "version": "3.6.6"
  },
  "toc": {
   "nav_menu": {},
   "number_sections": false,
   "sideBar": true,
   "skip_h1_title": false,
   "title_cell": "Table of Contents",
   "title_sidebar": "Contents",
   "toc_cell": false,
   "toc_position": {},
   "toc_section_display": true,
   "toc_window_display": false
  },
  "varInspector": {
   "cols": {
    "lenName": 16,
    "lenType": 16,
    "lenVar": 40
   },
   "kernels_config": {
    "python": {
     "delete_cmd_postfix": "",
     "delete_cmd_prefix": "del ",
     "library": "var_list.py",
     "varRefreshCmd": "print(var_dic_list())"
    },
    "r": {
     "delete_cmd_postfix": ") ",
     "delete_cmd_prefix": "rm(",
     "library": "var_list.r",
     "varRefreshCmd": "cat(var_dic_list()) "
    }
   },
   "types_to_exclude": [
    "module",
    "function",
    "builtin_function_or_method",
    "instance",
    "_Feature"
   ],
   "window_display": false
  }
 },
 "nbformat": 4,
 "nbformat_minor": 2
}
