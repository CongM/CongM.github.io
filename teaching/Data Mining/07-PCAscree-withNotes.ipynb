{
 "cells": [
  {
   "cell_type": "markdown",
   "metadata": {
    "slideshow": {
     "slide_type": "slide"
    }
   },
   "source": [
    "<hr/>\n",
    "\n",
    "# Data Mining\n",
    "**Tamás Budavári** - budavari@jhu.edu <br/>\n",
    "**Class 7** \n",
    "\n",
    "- Eigensystem of covariance matrix\n",
    "- Fitting lines and planes\n",
    "\n",
    "<hr/>"
   ]
  },
  {
   "cell_type": "code",
   "execution_count": 1,
   "metadata": {},
   "outputs": [
    {
     "name": "stdout",
     "output_type": "stream",
     "text": [
      "Populating the interactive namespace from numpy and matplotlib\n"
     ]
    }
   ],
   "source": [
    "%pylab inline"
   ]
  },
  {
   "cell_type": "code",
   "execution_count": 2,
   "metadata": {},
   "outputs": [],
   "source": [
    "pylab.rcParams['figure.figsize'] = (4,4)"
   ]
  },
  {
   "cell_type": "markdown",
   "metadata": {
    "slideshow": {
     "slide_type": "slide"
    }
   },
   "source": [
    "<h1><font color=\"darkblue\">Recap from last time</font></h1>\n",
    "<hr/>"
   ]
  },
  {
   "cell_type": "markdown",
   "metadata": {},
   "source": [
    "### Eigendecomposition \n",
    "\n",
    "- If we multiply with $E$ and $E^T$ from left and right \n",
    "\n",
    "> $ C = E\\,\\Lambda\\,E^T$\n",
    "\n",
    "> or\n",
    "\n",
    ">$\\displaystyle C = \\sum_{k=1}^N\\ \\lambda_k\\left(\\boldsymbol{e}_k\\,\\boldsymbol{e}_k^T\\right) $"
   ]
  },
  {
   "cell_type": "markdown",
   "metadata": {},
   "source": [
    "### Scree Plot\n",
    "\n",
    "- The eigenvalue spectrum\n",
    "\n",
    ">$ \\big\\{ \\lambda_1, \\lambda_2, \\dots, \\lambda_N \\big\\}$\n",
    "\n",
    "- How many important directions?\n",
    "\n",
    "> Keep $K =\\,?$ principal components\n",
    "\n",
    "- Explained variance \n",
    "\n",
    "> Cf. $\\mathbb{Var}[X\\pm{}Y] = \\mathbb{Var}[X]\\pm{}\\mathbb{Var}[Y]$\n",
    ">\n",
    "> Also recall the [properties](https://en.wikipedia.org/wiki/Variance#Properties) of variance"
   ]
  },
  {
   "cell_type": "markdown",
   "metadata": {},
   "source": [
    "#### Generate data"
   ]
  },
  {
   "cell_type": "code",
   "execution_count": 3,
   "metadata": {},
   "outputs": [],
   "source": [
    "from scipy.stats import norm as gaussian\n",
    "import pandas as pd"
   ]
  },
  {
   "cell_type": "code",
   "execution_count": 5,
   "metadata": {},
   "outputs": [
    {
     "name": "stdout",
     "output_type": "stream",
     "text": [
      "(10, 1000)\n"
     ]
    }
   ],
   "source": [
    "# Generate 10-D vectors: scale, rotate\n",
    "np.random.seed(1)\n",
    "Z = gaussian.rvs(0,1,(10,1000))\n",
    "\n",
    "# Scale\n",
    "if True:\n",
    "    for i in range(Z[:,0].size): \n",
    "        Z[i,:] *= sqrt(i)\n",
    "    Z[:4,:] *= 1e-7\n",
    "    \n",
    "# Quick-n-dirty random rotation\n",
    "M = random.randn(Z[:,0].size,Z[:,0].size)\n",
    "Q,_ = np.linalg.qr(M) # QR decomposition\n",
    "Y = Q.dot(Z)          # random rotation\n",
    "\n",
    "print (Y.shape)\n",
    "\n",
    "# Save the data\n",
    "np.savetxt(\"temp.csv\", Y.T, delimiter=\",\")"
   ]
  },
  {
   "cell_type": "markdown",
   "metadata": {},
   "source": [
    "- [QR decomposition](https://en.wikipedia.org/wiki/QR_decomposition)\n",
    "> A QR decomposition (QR factorization) of a matrix $ \\; A \\; $ is\n",
    ">\n",
    "> $ A = QR \\;\\; $ where\n",
    "  - $ Q \\; $ is an [orthogonal matrix](https://en.wikipedia.org/wiki/Orthogonal_matrix)\n",
    "  - $ R \\; $ is an [upper triangular matrix](https://en.wikipedia.org/wiki/Triangular_matrix)"
   ]
  },
  {
   "cell_type": "code",
   "execution_count": 6,
   "metadata": {},
   "outputs": [],
   "source": [
    "# Remove all previous variables from memory\n",
    "del Y, M, Q, Z"
   ]
  },
  {
   "cell_type": "code",
   "execution_count": 7,
   "metadata": {},
   "outputs": [
    {
     "name": "stdout",
     "output_type": "stream",
     "text": [
      "Error message: name 'Y' is not defined\n"
     ]
    }
   ],
   "source": [
    "# After running the cell above, 'Y' is deleted\n",
    "try:\n",
    "    print (\"Shape of Y\" % Y.shape)\n",
    "except NameError as e:\n",
    "    print (\"Error message: %s\" % e)    "
   ]
  },
  {
   "cell_type": "markdown",
   "metadata": {},
   "source": [
    "#### Analyze data\n",
    "\n",
    "- Now your data file is available here: [temp.csv](temp.csv)\n",
    "- [Tutorial](http://pandas.pydata.org/pandas-docs/stable/tutorials.html) for `pandas`"
   ]
  },
  {
   "cell_type": "code",
   "execution_count": 8,
   "metadata": {},
   "outputs": [
    {
     "data": {
      "text/html": [
       "<div>\n",
       "<style>\n",
       "    .dataframe thead tr:only-child th {\n",
       "        text-align: right;\n",
       "    }\n",
       "\n",
       "    .dataframe thead th {\n",
       "        text-align: left;\n",
       "    }\n",
       "\n",
       "    .dataframe tbody tr th {\n",
       "        vertical-align: top;\n",
       "    }\n",
       "</style>\n",
       "<table border=\"1\" class=\"dataframe\">\n",
       "  <thead>\n",
       "    <tr style=\"text-align: right;\">\n",
       "      <th></th>\n",
       "      <th>0</th>\n",
       "      <th>1</th>\n",
       "      <th>2</th>\n",
       "      <th>3</th>\n",
       "      <th>4</th>\n",
       "      <th>5</th>\n",
       "      <th>6</th>\n",
       "      <th>7</th>\n",
       "      <th>8</th>\n",
       "      <th>9</th>\n",
       "    </tr>\n",
       "  </thead>\n",
       "  <tbody>\n",
       "    <tr>\n",
       "      <th>0</th>\n",
       "      <td>-1.505335</td>\n",
       "      <td>2.453394</td>\n",
       "      <td>-4.075387</td>\n",
       "      <td>0.506457</td>\n",
       "      <td>2.099745</td>\n",
       "      <td>-6.931051</td>\n",
       "      <td>-0.168452</td>\n",
       "      <td>-0.310699</td>\n",
       "      <td>-0.018441</td>\n",
       "      <td>-4.934232</td>\n",
       "    </tr>\n",
       "    <tr>\n",
       "      <th>1</th>\n",
       "      <td>0.494729</td>\n",
       "      <td>2.499596</td>\n",
       "      <td>1.114845</td>\n",
       "      <td>0.424238</td>\n",
       "      <td>-1.877948</td>\n",
       "      <td>-1.296794</td>\n",
       "      <td>-1.740021</td>\n",
       "      <td>2.978778</td>\n",
       "      <td>-1.480376</td>\n",
       "      <td>-0.246117</td>\n",
       "    </tr>\n",
       "    <tr>\n",
       "      <th>2</th>\n",
       "      <td>-0.892449</td>\n",
       "      <td>-2.503452</td>\n",
       "      <td>-0.374558</td>\n",
       "      <td>3.173975</td>\n",
       "      <td>1.820951</td>\n",
       "      <td>2.757170</td>\n",
       "      <td>-0.067205</td>\n",
       "      <td>-4.549206</td>\n",
       "      <td>1.550991</td>\n",
       "      <td>0.084282</td>\n",
       "    </tr>\n",
       "  </tbody>\n",
       "</table>\n",
       "</div>"
      ],
      "text/plain": [
       "          0         1         2         3         4         5         6  \\\n",
       "0 -1.505335  2.453394 -4.075387  0.506457  2.099745 -6.931051 -0.168452   \n",
       "1  0.494729  2.499596  1.114845  0.424238 -1.877948 -1.296794 -1.740021   \n",
       "2 -0.892449 -2.503452 -0.374558  3.173975  1.820951  2.757170 -0.067205   \n",
       "\n",
       "          7         8         9  \n",
       "0 -0.310699 -0.018441 -4.934232  \n",
       "1  2.978778 -1.480376 -0.246117  \n",
       "2 -4.549206  1.550991  0.084282  "
      ]
     },
     "execution_count": 8,
     "metadata": {},
     "output_type": "execute_result"
    }
   ],
   "source": [
    "# pandas dataframe - table data structure\n",
    "df = pd.read_csv('temp.csv', header=None)\n",
    "df[:3] # slice like arrays"
   ]
  },
  {
   "cell_type": "code",
   "execution_count": 9,
   "metadata": {},
   "outputs": [
    {
     "data": {
      "text/plain": [
       "(10, 1000)"
      ]
     },
     "execution_count": 9,
     "metadata": {},
     "output_type": "execute_result"
    }
   ],
   "source": [
    "# Re-load the Y matrix and convert dataframe to matrix\n",
    "Y = pd.read_csv('temp.csv',header=None).as_matrix().T\n",
    "Y.shape"
   ]
  },
  {
   "cell_type": "code",
   "execution_count": 10,
   "metadata": {},
   "outputs": [
    {
     "data": {
      "image/png": "[encoded data removed]",
      "text/plain": [
       "<matplotlib.figure.Figure at 0x1a137cc128>"
      ]
     },
     "metadata": {},
     "output_type": "display_data"
    }
   ],
   "source": [
    "# Plot the data in 2D\n",
    "subplot(111, aspect='equal')\n",
    "plot(Y[0,:], Y[2,:], '.', alpha=0.2);"
   ]
  },
  {
   "cell_type": "code",
   "execution_count": 11,
   "metadata": {},
   "outputs": [],
   "source": [
    "from sklearn import decomposition"
   ]
  },
  {
   "cell_type": "code",
   "execution_count": 12,
   "metadata": {},
   "outputs": [
    {
     "data": {
      "image/png": "[encoded data removed]",
      "text/plain": [
       "<matplotlib.figure.Figure at 0x10c52d978>"
      ]
     },
     "metadata": {},
     "output_type": "display_data"
    }
   ],
   "source": [
    "# Choose first k PCs by setting [n_componts] = k, if whiten the data then set [whiten] = True\n",
    "pca = decomposition.PCA(n_components=Y.shape[0], whiten=False)\n",
    "B = pca.fit_transform(Y.T).T\n",
    "E, L = pca.components_.T, pca.explained_variance_\n",
    "\n",
    "# Plot first 2 PCs\n",
    "subplot(111, aspect='equal')\n",
    "plot(B[0,:], B[1,:], '.', alpha=0.2);"
   ]
  },
  {
   "cell_type": "code",
   "execution_count": 13,
   "metadata": {},
   "outputs": [
    {
     "data": {
      "image/png": "[encoded data removed]",
      "text/plain": [
       "<matplotlib.figure.Figure at 0x1a1bab74a8>"
      ]
     },
     "metadata": {},
     "output_type": "display_data"
    }
   ],
   "source": [
    "# Plot the eigenvalues\n",
    "subplot(211); \n",
    "plot(L,'o-'); \n",
    "ylabel('Eigenvalues');\n",
    "\n",
    "# Plot cumsum(Lambda) / sum(Lambda), i.e. how much variance are explained by first k PCs\n",
    "subplot(212); \n",
    "cl = np.cumsum(L); \n",
    "ylabel('Total Variance');\n",
    "plot(cl/cl[-1], 'o-r'); \n",
    "ylim(0, None);"
   ]
  },
  {
   "cell_type": "code",
   "execution_count": 14,
   "metadata": {},
   "outputs": [
    {
     "data": {
      "image/png": "[encoded data removed]",
      "text/plain": [
       "<matplotlib.figure.Figure at 0x10c51ef98>"
      ]
     },
     "metadata": {},
     "output_type": "display_data"
    }
   ],
   "source": [
    "# Plot original and new covariance matrices (estimate w/o norm)\n",
    "figure(figsize=(5,2.5))\n",
    "\n",
    "# Original covariance matrix\n",
    "subplot(121); \n",
    "imshow(Y.dot(Y.T), interpolation='none');\n",
    "\n",
    "# New covariance matrix\n",
    "subplot(122); \n",
    "imshow(B.dot(B.T), interpolation='none');"
   ]
  },
  {
   "cell_type": "code",
   "execution_count": 15,
   "metadata": {},
   "outputs": [
    {
     "data": {
      "image/png": "[encoded data removed]",
      "text/plain": [
       "<matplotlib.figure.Figure at 0x1a1baef6d8>"
      ]
     },
     "metadata": {},
     "output_type": "display_data"
    }
   ],
   "source": [
    "# First 6 PCs\n",
    "A = B[:6,:]\n",
    "figure(figsize=(5,2.5))\n",
    "\n",
    "# Covariance matrix with first 10 PCs\n",
    "subplot(121); \n",
    "imshow(B.dot(B.T),interpolation='none');\n",
    "\n",
    "# Covariace matrix with first 6 PCs\n",
    "subplot(122); \n",
    "imshow(A.dot(A.T),interpolation='none');"
   ]
  },
  {
   "cell_type": "markdown",
   "metadata": {},
   "source": [
    "### Inverse of the Covariance Matrix\n",
    "\n",
    "- Appears in the multivariate normal distribution!\n",
    "\n",
    ">$\\displaystyle{\\cal{}N}(x;\\mu,C) \\propto \\exp\\left[-\\frac{1}{2}(x\\!-\\!\\mu)^T\\,C^{-1} (x\\!-\\!\\mu)\\right]$\n",
    "\n",
    "- Inverse of the diagonal eigenvalue matrix\n",
    "\n",
    ">$\\displaystyle \\Lambda^{-1} =  \\left( \\begin{array}{ccc}\n",
    "\\frac{1}{\\lambda_1} &  & \\cdots & 0\\\\\n",
    " & \\frac{1}{\\lambda_2} &   & \\vdots\\\\\n",
    "\\vdots &  & \\ddots &  \\\\\n",
    "0 & \\cdots &  & \\frac{1}{\\lambda_N} \\\\\n",
    "\\end{array} \\right)$\n",
    "\n",
    "- Inverse of the covariance matrix\n",
    "\n",
    ">$\\displaystyle C^{-1} = \\left( E\\ \\Lambda E^T \\right)^{-1} = \\left( E^T \\right)^{-1} \\Lambda^{-1} E^{-1} = E\\ \\Lambda^{-1} E^T$\n",
    ">\n",
    "> Recall that $ \\; \\displaystyle E\\ E^T = E^T \\ E = I \\; $, i.e. $ \\; \\displaystyle \\left(E^T \\right)^{-1} = E \\; $ and $ \\; \\displaystyle E^{-1} = E^T \\; $\n",
    ">\n",
    "> Also recall the [properties](https://en.wikipedia.org/wiki/Invertible_matrix#Other_properties) of a invertible matrix\n",
    "\n",
    "- Also see pseudoinverse with small eigenvalues "
   ]
  },
  {
   "cell_type": "markdown",
   "metadata": {},
   "source": [
    "### Fitting Lines\n",
    "\n",
    "- What if $x$ and $y$ are both noisy? \n",
    "\n",
    "> For example, $\\big\\{(x_i,y_i)\\big\\}$ measurements have the same uncertainties. \n",
    "> The relevant residuals are perpendicular to the line.\n",
    "> Minimizing RMS of residuals is related to maximizing the sample variance along line!\n",
    "\n",
    "- Sounds like the PCA problem?"
   ]
  },
  {
   "cell_type": "markdown",
   "metadata": {
    "collapsed": true
   },
   "source": [
    "\n",
    "### Fitting Planes\n",
    "\n",
    "- Similarly, fitting a $K$-dimensional hyperplane in $N$ dimensions\n",
    "\n",
    "> Minimizing sum of square lengths of the residual vectors\n",
    ">\n",
    ">$\\displaystyle \\ \\ \\ \\ \\ \\min \\sum_i r_i^2 \\ \\ \\ \\ \\ $  where $\\ \\ \\ r_i = x_i - (a\\,a^T)x_i$, \n",
    "\n",
    "> yields \n",
    "\n",
    ">$\\displaystyle \\ \\ \\ \\ \\ \\max \\sum_i \\left(a^Tx_i\\right)^2 \\ \\ \\ \\ \\ $ \n",
    ">\n",
    "> cf. sample variance along $a$, if data already center\n",
    "\n",
    "- Essentially same as the PCA problem!"
   ]
  },
  {
   "cell_type": "code",
   "execution_count": 18,
   "metadata": {},
   "outputs": [
    {
     "data": {
      "image/png": "[encoded data removed]",
      "text/plain": [
       "<matplotlib.figure.Figure at 0x1a1b24a208>"
      ]
     },
     "metadata": {},
     "output_type": "display_data"
    }
   ],
   "source": [
    "# Generate 2D (column) vectors\n",
    "np.random.seed(seed=42);\n",
    "N = gaussian.rvs(0,1,(2,50));\n",
    "\n",
    "# Scale\n",
    "N[0,:] *= 2 \n",
    "\n",
    "# Rotate by 30 deg\n",
    "f = +pi/6   \n",
    "R = array([[cos(f), -sin(f)],\n",
    "           [sin(f),  cos(f)]]) \n",
    "X = R.dot(N)\n",
    "\n",
    "# Plot\n",
    "figure(figsize=(5,5)); \n",
    "subplot(111, aspect='equal');\n",
    "plot(X[0,:], X[1,:],'x', alpha=0.6);"
   ]
  },
  {
   "cell_type": "code",
   "execution_count": 19,
   "metadata": {},
   "outputs": [
    {
     "data": {
      "image/png": "[encoded data removed]",
      "text/plain": [
       "<matplotlib.figure.Figure at 0x1a1bc6a438>"
      ]
     },
     "metadata": {},
     "output_type": "display_data"
    }
   ],
   "source": [
    "# Project on 1st pricipal component\n",
    "X -= mean(X, axis=1).reshape(X[:,1].size,1)\n",
    "E,_,_ = linalg.svd(X) # only keep eigenvectors\n",
    "F = E[:,:1]           # truncated basis: only PC1\n",
    "P = F.dot(F.T).dot(X) # projection\n",
    "R = X - P             # residuals\n",
    "\n",
    "# Plot\n",
    "figure(figsize=(5,5)); \n",
    "subplot(111, aspect='equal');\n",
    "\n",
    "# Original data\n",
    "plot(X[0,:], X[1,:], 'xb', alpha=0.6);\n",
    "\n",
    "# Projection\n",
    "plot(P[0,:], P[1,:], '-or', alpha=0.4);\n",
    "\n",
    "quiver(P[0,:], P[1,:], R[0,:], R[1,:], alpha=0.2, angles='xy', scale_units='xy', scale=1);"
   ]
  },
  {
   "cell_type": "markdown",
   "metadata": {},
   "source": [
    "### More on Fitting Later\n",
    "\n",
    "- Next: Bayesian inference\n",
    "- ..."
   ]
  },
  {
   "cell_type": "code",
   "execution_count": null,
   "metadata": {},
   "outputs": [],
   "source": []
  },
  {
   "cell_type": "code",
   "execution_count": null,
   "metadata": {},
   "outputs": [],
   "source": []
  },
  {
   "cell_type": "code",
   "execution_count": null,
   "metadata": {},
   "outputs": [],
   "source": []
  },
  {
   "cell_type": "code",
   "execution_count": null,
   "metadata": {},
   "outputs": [],
   "source": []
  }
 ],
 "metadata": {
  "anaconda-cloud": {},
  "kernelspec": {
   "display_name": "Python 3",
   "language": "python",
   "name": "python3"
  },
  "language_info": {
   "codemirror_mode": {
    "name": "ipython",
    "version": 3
   },
   "file_extension": ".py",
   "mimetype": "text/x-python",
   "name": "python",
   "nbconvert_exporter": "python",
   "pygments_lexer": "ipython3",
   "version": "3.6.6"
  },
  "toc": {
   "nav_menu": {},
   "number_sections": false,
   "sideBar": true,
   "skip_h1_title": false,
   "title_cell": "Table of Contents",
   "title_sidebar": "Contents",
   "toc_cell": false,
   "toc_position": {},
   "toc_section_display": true,
   "toc_window_display": false
  },
  "varInspector": {
   "cols": {
    "lenName": 16,
    "lenType": 16,
    "lenVar": 40
   },
   "kernels_config": {
    "python": {
     "delete_cmd_postfix": "",
     "delete_cmd_prefix": "del ",
     "library": "var_list.py",
     "varRefreshCmd": "print(var_dic_list())"
    },
    "r": {
     "delete_cmd_postfix": ") ",
     "delete_cmd_prefix": "rm(",
     "library": "var_list.r",
     "varRefreshCmd": "cat(var_dic_list()) "
    }
   },
   "types_to_exclude": [
    "module",
    "function",
    "builtin_function_or_method",
    "instance",
    "_Feature"
   ],
   "window_display": false
  }
 },
 "nbformat": 4,
 "nbformat_minor": 1
}
